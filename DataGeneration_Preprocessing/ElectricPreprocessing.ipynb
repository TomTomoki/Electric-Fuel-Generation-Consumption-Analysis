{
  "cells": [
    {
      "cell_type": "code",
      "execution_count": null,
      "id": "a82ebf0c",
      "metadata": {
        "id": "a82ebf0c"
      },
      "outputs": [],
      "source": [
        "import pandas as pd\n",
        "import csv\n",
        "#from google.colab import files\n",
        "#file = files.upload()"
      ]
    },
    {
      "cell_type": "code",
      "execution_count": null,
      "id": "fEalJKWoYoxB",
      "metadata": {
        "colab": {
          "base_uri": "https://localhost:8080/",
          "height": 278
        },
        "id": "fEalJKWoYoxB",
        "outputId": "ab40847b-7050-47b6-9919-46fdbf27cf97"
      },
      "outputs": [
        {
          "name": "stdout",
          "output_type": "stream",
          "text": [
            "Requirement already satisfied: xlrd in /Users/tomokikyotani/opt/anaconda3/lib/python3.9/site-packages (2.0.1)\r\n"
          ]
        }
      ],
      "source": [
        "!pip install --upgrade xlrd"
      ]
    },
    {
      "cell_type": "markdown",
      "id": "lP_b68yKaMLK",
      "metadata": {
        "id": "lP_b68yKaMLK"
      },
      "source": [
        "# 2010"
      ]
    },
    {
      "cell_type": "code",
      "execution_count": null,
      "id": "4-oF0uKKW0jS",
      "metadata": {
        "colab": {
          "base_uri": "https://localhost:8080/",
          "height": 418
        },
        "id": "4-oF0uKKW0jS",
        "outputId": "6bc889dd-f0ab-4eec-e274-f7cd73c95a7d"
      },
      "outputs": [
        {
          "data": {
            "text/html": [
              "<div>\n",
              "<style scoped>\n",
              "    .dataframe tbody tr th:only-of-type {\n",
              "        vertical-align: middle;\n",
              "    }\n",
              "\n",
              "    .dataframe tbody tr th {\n",
              "        vertical-align: top;\n",
              "    }\n",
              "\n",
              "    .dataframe thead th {\n",
              "        text-align: right;\n",
              "    }\n",
              "</style>\n",
              "<table border=\"1\" class=\"dataframe\">\n",
              "  <thead>\n",
              "    <tr style=\"text-align: right;\">\n",
              "      <th></th>\n",
              "      <th>Plant ID</th>\n",
              "      <th>Combined Heat &amp; Power Plant</th>\n",
              "      <th>Nuclear Unit I.D.</th>\n",
              "      <th>Plant Name</th>\n",
              "      <th>Operator Name</th>\n",
              "      <th>Operator ID</th>\n",
              "      <th>State</th>\n",
              "      <th>Census Region</th>\n",
              "      <th>NERC Region</th>\n",
              "      <th>Reserved</th>\n",
              "      <th>...</th>\n",
              "      <th>NETGEN_SEP</th>\n",
              "      <th>NETGEN_OCT</th>\n",
              "      <th>NETGEN_NOV</th>\n",
              "      <th>NETGEN_DEC</th>\n",
              "      <th>TOTAL FUEL CONSUMPTION QUANTITY</th>\n",
              "      <th>ELECTRIC FUEL CONSUMPTION QUANTITY</th>\n",
              "      <th>TOTAL FUEL CONSUMPTION MMBTUS</th>\n",
              "      <th>ELEC FUEL CONSUMPTION MMBTUS</th>\n",
              "      <th>NET GENERATION (megawatthours)</th>\n",
              "      <th>Year</th>\n",
              "    </tr>\n",
              "  </thead>\n",
              "  <tbody>\n",
              "    <tr>\n",
              "      <th>0</th>\n",
              "      <td>2</td>\n",
              "      <td>N</td>\n",
              "      <td>NaN</td>\n",
              "      <td>Bankhead Dam</td>\n",
              "      <td>Alabama Power Co</td>\n",
              "      <td>195</td>\n",
              "      <td>AL</td>\n",
              "      <td>ESC</td>\n",
              "      <td>SERC</td>\n",
              "      <td>NaN</td>\n",
              "      <td>...</td>\n",
              "      <td>3959.266</td>\n",
              "      <td>3976.687</td>\n",
              "      <td>5650.315</td>\n",
              "      <td>9870.818</td>\n",
              "      <td>0</td>\n",
              "      <td>0</td>\n",
              "      <td>985172</td>\n",
              "      <td>985172</td>\n",
              "      <td>100981.000</td>\n",
              "      <td>2010</td>\n",
              "    </tr>\n",
              "    <tr>\n",
              "      <th>1</th>\n",
              "      <td>3</td>\n",
              "      <td>N</td>\n",
              "      <td>NaN</td>\n",
              "      <td>Barry</td>\n",
              "      <td>Alabama Power Co</td>\n",
              "      <td>195</td>\n",
              "      <td>AL</td>\n",
              "      <td>ESC</td>\n",
              "      <td>SERC</td>\n",
              "      <td>NaN</td>\n",
              "      <td>...</td>\n",
              "      <td>203457.000</td>\n",
              "      <td>227255.000</td>\n",
              "      <td>215456.000</td>\n",
              "      <td>253636.000</td>\n",
              "      <td>399953</td>\n",
              "      <td>399953</td>\n",
              "      <td>409113</td>\n",
              "      <td>409113</td>\n",
              "      <td>2605623.000</td>\n",
              "      <td>2010</td>\n",
              "    </tr>\n",
              "    <tr>\n",
              "      <th>2</th>\n",
              "      <td>3</td>\n",
              "      <td>N</td>\n",
              "      <td>NaN</td>\n",
              "      <td>Barry</td>\n",
              "      <td>Alabama Power Co</td>\n",
              "      <td>195</td>\n",
              "      <td>AL</td>\n",
              "      <td>ESC</td>\n",
              "      <td>SERC</td>\n",
              "      <td>NaN</td>\n",
              "      <td>...</td>\n",
              "      <td>NaN</td>\n",
              "      <td>0.000</td>\n",
              "      <td>NaN</td>\n",
              "      <td>NaN</td>\n",
              "      <td>0</td>\n",
              "      <td>0</td>\n",
              "      <td>0</td>\n",
              "      <td>0</td>\n",
              "      <td>0.000</td>\n",
              "      <td>2010</td>\n",
              "    </tr>\n",
              "    <tr>\n",
              "      <th>3</th>\n",
              "      <td>3</td>\n",
              "      <td>N</td>\n",
              "      <td>NaN</td>\n",
              "      <td>Barry</td>\n",
              "      <td>Alabama Power Co</td>\n",
              "      <td>195</td>\n",
              "      <td>AL</td>\n",
              "      <td>ESC</td>\n",
              "      <td>SERC</td>\n",
              "      <td>NaN</td>\n",
              "      <td>...</td>\n",
              "      <td>371013.000</td>\n",
              "      <td>411438.000</td>\n",
              "      <td>393852.000</td>\n",
              "      <td>468560.000</td>\n",
              "      <td>49297741</td>\n",
              "      <td>49297741</td>\n",
              "      <td>50455319</td>\n",
              "      <td>50455319</td>\n",
              "      <td>4748932.000</td>\n",
              "      <td>2010</td>\n",
              "    </tr>\n",
              "    <tr>\n",
              "      <th>4</th>\n",
              "      <td>3</td>\n",
              "      <td>N</td>\n",
              "      <td>NaN</td>\n",
              "      <td>Barry</td>\n",
              "      <td>Alabama Power Co</td>\n",
              "      <td>195</td>\n",
              "      <td>AL</td>\n",
              "      <td>ESC</td>\n",
              "      <td>SERC</td>\n",
              "      <td>NaN</td>\n",
              "      <td>...</td>\n",
              "      <td>575756.007</td>\n",
              "      <td>248864.925</td>\n",
              "      <td>497237.772</td>\n",
              "      <td>564394.565</td>\n",
              "      <td>3476163</td>\n",
              "      <td>3476163</td>\n",
              "      <td>78476870</td>\n",
              "      <td>78476870</td>\n",
              "      <td>7749280.005</td>\n",
              "      <td>2010</td>\n",
              "    </tr>\n",
              "  </tbody>\n",
              "</table>\n",
              "<p>5 rows × 97 columns</p>\n",
              "</div>"
            ],
            "text/plain": [
              "   Plant ID Combined Heat & Power Plant  Nuclear Unit I.D.    Plant Name  \\\n",
              "0         2                           N                NaN  Bankhead Dam   \n",
              "1         3                           N                NaN         Barry   \n",
              "2         3                           N                NaN         Barry   \n",
              "3         3                           N                NaN         Barry   \n",
              "4         3                           N                NaN         Barry   \n",
              "\n",
              "      Operator Name  Operator ID State Census Region NERC Region  Reserved   \\\n",
              "0  Alabama Power Co          195    AL          ESC         SERC        NaN   \n",
              "1  Alabama Power Co          195    AL          ESC         SERC        NaN   \n",
              "2  Alabama Power Co          195    AL          ESC         SERC        NaN   \n",
              "3  Alabama Power Co          195    AL          ESC         SERC        NaN   \n",
              "4  Alabama Power Co          195    AL          ESC         SERC        NaN   \n",
              "\n",
              "   ...  NETGEN_SEP  NETGEN_OCT  NETGEN_NOV  NETGEN_DEC  \\\n",
              "0  ...    3959.266    3976.687    5650.315    9870.818   \n",
              "1  ...  203457.000  227255.000  215456.000  253636.000   \n",
              "2  ...         NaN       0.000         NaN         NaN   \n",
              "3  ...  371013.000  411438.000  393852.000  468560.000   \n",
              "4  ...  575756.007  248864.925  497237.772  564394.565   \n",
              "\n",
              "  TOTAL FUEL CONSUMPTION QUANTITY ELECTRIC FUEL CONSUMPTION QUANTITY  \\\n",
              "0                               0                                  0   \n",
              "1                          399953                             399953   \n",
              "2                               0                                  0   \n",
              "3                        49297741                           49297741   \n",
              "4                         3476163                            3476163   \n",
              "\n",
              "   TOTAL FUEL CONSUMPTION MMBTUS  ELEC FUEL CONSUMPTION MMBTUS  \\\n",
              "0                         985172                        985172   \n",
              "1                         409113                        409113   \n",
              "2                              0                             0   \n",
              "3                       50455319                      50455319   \n",
              "4                       78476870                      78476870   \n",
              "\n",
              "  NET GENERATION (megawatthours)  Year  \n",
              "0                     100981.000  2010  \n",
              "1                    2605623.000  2010  \n",
              "2                          0.000  2010  \n",
              "3                    4748932.000  2010  \n",
              "4                    7749280.005  2010  \n",
              "\n",
              "[5 rows x 97 columns]"
            ]
          },
          "execution_count": 4,
          "metadata": {},
          "output_type": "execute_result"
        }
      ],
      "source": [
        "df_2010 = pd.read_excel('./initial/Electric/original/ELECTRIC_2010.xls', skiprows=7)\n",
        "df_2010.head()"
      ]
    },
    {
      "cell_type": "code",
      "execution_count": null,
      "id": "ZRcBEIlQe186",
      "metadata": {
        "id": "ZRcBEIlQe186"
      },
      "outputs": [],
      "source": [
        "df_2010.drop(df_2010[df_2010['Plant ID'] == 99999].index, axis='index', inplace=True)"
      ]
    },
    {
      "cell_type": "code",
      "execution_count": null,
      "id": "19bAUFQVY58e",
      "metadata": {
        "colab": {
          "base_uri": "https://localhost:8080/"
        },
        "id": "19bAUFQVY58e",
        "outputId": "af0b7d90-155b-48ce-8f38-1c032162fa62"
      },
      "outputs": [
        {
          "name": "stdout",
          "output_type": "stream",
          "text": [
            "97\n"
          ]
        },
        {
          "data": {
            "text/plain": [
              "Index(['Plant ID', 'Combined Heat & Power Plant', 'Nuclear Unit I.D.',\n",
              "       'Plant Name', 'Operator Name', 'Operator ID', 'State', 'Census Region',\n",
              "       'NERC Region', 'Reserved ', 'NAICS Code', 'EIA Sector Number',\n",
              "       'Sector Name', 'Reported Prime Mover', 'Reported Fuel Type Code',\n",
              "       'AER Fuel Type Code', 'Reserved .1', 'Reserved .2',\n",
              "       'Physical Unit Label', 'QUANTITY_JAN', 'QUANTITY_FEB', 'QUANTITY_MAR',\n",
              "       'QUANTITY_APR', 'QUANTITY_MAY', 'QUANTITY_JUN', 'QUANTITY_JUL',\n",
              "       'QUANTITY_AUG', 'QUANTITY_SEP', 'QUANTITY_OCT', 'QUANTITY_NOV',\n",
              "       'QUANTITY_DEC', 'ELEC_QUANTITY_JAN', 'ELEC_QUANTITY_FEB',\n",
              "       'ELEC_QUANTITY_MAR', 'ELEC_QUANTITY_APR', 'ELEC_QUANTITY_MAY',\n",
              "       'ELEC_QUANTITY_JUN', 'ELEC_QUANTITY_JUL', 'ELEC_QUANTITY_AUG',\n",
              "       'ELEC_QUANTITY_SEP', 'ELEC_QUANTITY_OCT', 'ELEC_QUANTITY_NOV',\n",
              "       'ELEC_QUANTITY_DEC', 'MMBTU_PER_UNIT_JAN', 'MMBTU_PER_UNIT_FEB',\n",
              "       'MMBTU_PER_UNIT_MAR', 'MMBTU_PER_UNIT_APR', 'MMBTU_PER_UNIT_MAY',\n",
              "       'MMBTU_PER_UNIT_JUN', 'MMBTU_PER_UNIT_JUL', 'MMBTU_PER_UNIT_AUG',\n",
              "       'MMBTU_PER_UNIT_SEP', 'MMBTU_PER_UNIT_OCT', 'MMBTU_PER_UNIT_NOV',\n",
              "       'MMBTU_PER_UNIT_DEC', 'TOT_MMBTU_JAN', 'TOT_MMBTU_FEB', 'TOT_MMBTU_MAR',\n",
              "       'TOT_MMBTU_APR', 'TOT_MMBTU_MAY', 'TOT_MMBTU_JUN', 'TOT_MMBTU_JUL',\n",
              "       'TOT_MMBTU_AUG', 'TOT_MMBTU_SEP', 'TOT_MMBTU_OCT', 'TOT_MMBTU_NOV',\n",
              "       'TOT_MMBTU_DEC', 'ELEC_MMBTUS_JAN', 'ELEC_MMBTUS_FEB',\n",
              "       'ELEC_MMBTUS_MAR', 'ELEC_MMBTUS_APR', 'ELEC_MMBTUS_MAY',\n",
              "       'ELEC_MMBTUS_JUN', 'ELEC_MMBTUS_JUL', 'ELEC_MMBTUS_AUG',\n",
              "       'ELEC_MMBTUS_SEP', 'ELEC_MMBTUS_OCT', 'ELEC_MMBTUS_NOV',\n",
              "       'ELEC_MMBTUS_DEC', 'NETGEN_JAN', 'NETGEN_FEB', 'NETGEN_MAR',\n",
              "       'NETGEN_APR', 'NETGEN_MAY', 'NETGEN_JUN', 'NETGEN_JUL', 'NETGEN_AUG',\n",
              "       'NETGEN_SEP', 'NETGEN_OCT', 'NETGEN_NOV', 'NETGEN_DEC',\n",
              "       'TOTAL FUEL CONSUMPTION QUANTITY', 'ELECTRIC FUEL CONSUMPTION QUANTITY',\n",
              "       'TOTAL FUEL CONSUMPTION MMBTUS', 'ELEC FUEL CONSUMPTION MMBTUS',\n",
              "       'NET GENERATION (megawatthours)', 'Year'],\n",
              "      dtype='object')"
            ]
          },
          "execution_count": 6,
          "metadata": {},
          "output_type": "execute_result"
        }
      ],
      "source": [
        "print(len(df_2010.columns))\n",
        "df_2010.columns"
      ]
    },
    {
      "cell_type": "code",
      "execution_count": null,
      "id": "l_ZFlbDFfcMc",
      "metadata": {
        "id": "l_ZFlbDFfcMc"
      },
      "outputs": [],
      "source": [
        "df_2010.rename(columns={'Plant ID': 'Plant Id', 'Plant Name': 'Plant Name', 'Operator Name': 'Operator Name', 'Operator ID': 'Operator Id', 'State': 'State',\n",
        "                   'Reported Fuel Type Code': 'Reported Fuel Type Code', 'AER Fuel Type Code': 'AER Fuel Type Code',\n",
        "                   'NET GENERATION (megawatthours)': 'Net Generation (Megawatthours)', 'ELEC FUEL CONSUMPTION MMBTUS': 'Elec Fuel Consumption MMBtu',\n",
        "                   'Year': 'Year'}, inplace=True)"
      ]
    },
    {
      "cell_type": "code",
      "execution_count": null,
      "id": "cNR8jCumZFOG",
      "metadata": {
        "colab": {
          "base_uri": "https://localhost:8080/"
        },
        "id": "cNR8jCumZFOG",
        "outputId": "df70fce5-7aaf-4572-f398-2d8ea4f7eaee"
      },
      "outputs": [
        {
          "name": "stdout",
          "output_type": "stream",
          "text": [
            "(10036, 97)\n"
          ]
        },
        {
          "data": {
            "text/plain": [
              "2010    10036\n",
              "Name: Year, dtype: int64"
            ]
          },
          "execution_count": 8,
          "metadata": {},
          "output_type": "execute_result"
        }
      ],
      "source": [
        "print(df_2010.shape)\n",
        "df_2010['Year'].value_counts()"
      ]
    },
    {
      "cell_type": "code",
      "execution_count": null,
      "id": "-4QXMeIIZPW6",
      "metadata": {
        "id": "-4QXMeIIZPW6"
      },
      "outputs": [],
      "source": [
        "df_2010.to_csv('ele_2010.csv', index = False, quoting=csv.QUOTE_NONNUMERIC)"
      ]
    },
    {
      "cell_type": "markdown",
      "id": "3tdE4zH6cA_1",
      "metadata": {
        "id": "3tdE4zH6cA_1"
      },
      "source": [
        "# 2011"
      ]
    },
    {
      "cell_type": "code",
      "execution_count": null,
      "id": "C16uqbxVcDhF",
      "metadata": {
        "colab": {
          "base_uri": "https://localhost:8080/",
          "height": 438
        },
        "id": "C16uqbxVcDhF",
        "outputId": "78a18fdc-5d1a-456f-a1c8-98459cd9ad45"
      },
      "outputs": [
        {
          "data": {
            "text/html": [
              "<div>\n",
              "<style scoped>\n",
              "    .dataframe tbody tr th:only-of-type {\n",
              "        vertical-align: middle;\n",
              "    }\n",
              "\n",
              "    .dataframe tbody tr th {\n",
              "        vertical-align: top;\n",
              "    }\n",
              "\n",
              "    .dataframe thead th {\n",
              "        text-align: right;\n",
              "    }\n",
              "</style>\n",
              "<table border=\"1\" class=\"dataframe\">\n",
              "  <thead>\n",
              "    <tr style=\"text-align: right;\">\n",
              "      <th></th>\n",
              "      <th>Plant Id</th>\n",
              "      <th>Combined Heat &amp; Power Plant</th>\n",
              "      <th>Nuclear Unit Id</th>\n",
              "      <th>Plant Name</th>\n",
              "      <th>Operator Name</th>\n",
              "      <th>Operator Id</th>\n",
              "      <th>State</th>\n",
              "      <th>Census Region</th>\n",
              "      <th>NERC Region</th>\n",
              "      <th>Reserved</th>\n",
              "      <th>...</th>\n",
              "      <th>Netgen_Sep</th>\n",
              "      <th>Netgen_Oct</th>\n",
              "      <th>Netgen_Nov</th>\n",
              "      <th>Netgen_Dec</th>\n",
              "      <th>Total Fuel Consumption Quantity</th>\n",
              "      <th>Electric Fuel Consumption Quantity</th>\n",
              "      <th>Total Fuel Consumption MMBtu</th>\n",
              "      <th>Elec Fuel Consumption MMBtu</th>\n",
              "      <th>Net Generation (Megawatthours)</th>\n",
              "      <th>YEAR</th>\n",
              "    </tr>\n",
              "  </thead>\n",
              "  <tbody>\n",
              "    <tr>\n",
              "      <th>0</th>\n",
              "      <td>2</td>\n",
              "      <td>N</td>\n",
              "      <td>NaN</td>\n",
              "      <td>Bankhead Dam</td>\n",
              "      <td>Alabama Power Co</td>\n",
              "      <td>195</td>\n",
              "      <td>AL</td>\n",
              "      <td>ESC</td>\n",
              "      <td>SERC</td>\n",
              "      <td>NaN</td>\n",
              "      <td>...</td>\n",
              "      <td>7644.493</td>\n",
              "      <td>5745.298</td>\n",
              "      <td>9753.196</td>\n",
              "      <td>18508.394</td>\n",
              "      <td>0</td>\n",
              "      <td>0</td>\n",
              "      <td>1253705</td>\n",
              "      <td>1253705</td>\n",
              "      <td>129035.0</td>\n",
              "      <td>2011</td>\n",
              "    </tr>\n",
              "    <tr>\n",
              "      <th>1</th>\n",
              "      <td>3</td>\n",
              "      <td>N</td>\n",
              "      <td>NaN</td>\n",
              "      <td>Barry</td>\n",
              "      <td>Alabama Power Co</td>\n",
              "      <td>195</td>\n",
              "      <td>AL</td>\n",
              "      <td>ESC</td>\n",
              "      <td>SERC</td>\n",
              "      <td>NaN</td>\n",
              "      <td>...</td>\n",
              "      <td>244954</td>\n",
              "      <td>254343</td>\n",
              "      <td>265446</td>\n",
              "      <td>231626</td>\n",
              "      <td>736775</td>\n",
              "      <td>736775</td>\n",
              "      <td>749136</td>\n",
              "      <td>749136</td>\n",
              "      <td>2779276.0</td>\n",
              "      <td>2011</td>\n",
              "    </tr>\n",
              "    <tr>\n",
              "      <th>2</th>\n",
              "      <td>3</td>\n",
              "      <td>N</td>\n",
              "      <td>NaN</td>\n",
              "      <td>Barry</td>\n",
              "      <td>Alabama Power Co</td>\n",
              "      <td>195</td>\n",
              "      <td>AL</td>\n",
              "      <td>ESC</td>\n",
              "      <td>SERC</td>\n",
              "      <td>NaN</td>\n",
              "      <td>...</td>\n",
              "      <td>424276</td>\n",
              "      <td>454200</td>\n",
              "      <td>472702</td>\n",
              "      <td>426776</td>\n",
              "      <td>52393245</td>\n",
              "      <td>52393245</td>\n",
              "      <td>53302057</td>\n",
              "      <td>53302057</td>\n",
              "      <td>4921183.0</td>\n",
              "      <td>2011</td>\n",
              "    </tr>\n",
              "    <tr>\n",
              "      <th>3</th>\n",
              "      <td>3</td>\n",
              "      <td>N</td>\n",
              "      <td>NaN</td>\n",
              "      <td>Barry</td>\n",
              "      <td>Alabama Power Co</td>\n",
              "      <td>195</td>\n",
              "      <td>AL</td>\n",
              "      <td>ESC</td>\n",
              "      <td>SERC</td>\n",
              "      <td>NaN</td>\n",
              "      <td>...</td>\n",
              "      <td>.</td>\n",
              "      <td>.</td>\n",
              "      <td>.</td>\n",
              "      <td>.</td>\n",
              "      <td>0</td>\n",
              "      <td>0</td>\n",
              "      <td>0</td>\n",
              "      <td>0</td>\n",
              "      <td>0.0</td>\n",
              "      <td>2011</td>\n",
              "    </tr>\n",
              "    <tr>\n",
              "      <th>4</th>\n",
              "      <td>3</td>\n",
              "      <td>N</td>\n",
              "      <td>NaN</td>\n",
              "      <td>Barry</td>\n",
              "      <td>Alabama Power Co</td>\n",
              "      <td>195</td>\n",
              "      <td>AL</td>\n",
              "      <td>ESC</td>\n",
              "      <td>SERC</td>\n",
              "      <td>NaN</td>\n",
              "      <td>...</td>\n",
              "      <td>237950.59</td>\n",
              "      <td>341045.86</td>\n",
              "      <td>43893.908</td>\n",
              "      <td>75862.989</td>\n",
              "      <td>2081219</td>\n",
              "      <td>2081219</td>\n",
              "      <td>47068634</td>\n",
              "      <td>47068634</td>\n",
              "      <td>4528324.4</td>\n",
              "      <td>2011</td>\n",
              "    </tr>\n",
              "  </tbody>\n",
              "</table>\n",
              "<p>5 rows × 97 columns</p>\n",
              "</div>"
            ],
            "text/plain": [
              "   Plant Id Combined Heat & Power Plant  Nuclear Unit Id    Plant Name  \\\n",
              "0         2                           N              NaN  Bankhead Dam   \n",
              "1         3                           N              NaN         Barry   \n",
              "2         3                           N              NaN         Barry   \n",
              "3         3                           N              NaN         Barry   \n",
              "4         3                           N              NaN         Barry   \n",
              "\n",
              "      Operator Name  Operator Id State Census Region NERC Region  Reserved  \\\n",
              "0  Alabama Power Co          195    AL           ESC        SERC       NaN   \n",
              "1  Alabama Power Co          195    AL           ESC        SERC       NaN   \n",
              "2  Alabama Power Co          195    AL           ESC        SERC       NaN   \n",
              "3  Alabama Power Co          195    AL           ESC        SERC       NaN   \n",
              "4  Alabama Power Co          195    AL           ESC        SERC       NaN   \n",
              "\n",
              "   ...  Netgen_Sep  Netgen_Oct Netgen_Nov Netgen_Dec  \\\n",
              "0  ...    7644.493    5745.298   9753.196  18508.394   \n",
              "1  ...      244954      254343     265446     231626   \n",
              "2  ...      424276      454200     472702     426776   \n",
              "3  ...           .           .          .          .   \n",
              "4  ...   237950.59   341045.86  43893.908  75862.989   \n",
              "\n",
              "  Total Fuel Consumption Quantity Electric Fuel Consumption Quantity  \\\n",
              "0                               0                                  0   \n",
              "1                          736775                             736775   \n",
              "2                        52393245                           52393245   \n",
              "3                               0                                  0   \n",
              "4                         2081219                            2081219   \n",
              "\n",
              "   Total Fuel Consumption MMBtu  Elec Fuel Consumption MMBtu  \\\n",
              "0                       1253705                      1253705   \n",
              "1                        749136                       749136   \n",
              "2                      53302057                     53302057   \n",
              "3                             0                            0   \n",
              "4                      47068634                     47068634   \n",
              "\n",
              "  Net Generation (Megawatthours)  YEAR  \n",
              "0                       129035.0  2011  \n",
              "1                      2779276.0  2011  \n",
              "2                      4921183.0  2011  \n",
              "3                            0.0  2011  \n",
              "4                      4528324.4  2011  \n",
              "\n",
              "[5 rows x 97 columns]"
            ]
          },
          "execution_count": 10,
          "metadata": {},
          "output_type": "execute_result"
        }
      ],
      "source": [
        "df = pd.read_excel('./initial/Electric/original/ELECTRIC_2011.xlsx', skiprows=5)\n",
        "df.head()"
      ]
    },
    {
      "cell_type": "code",
      "execution_count": null,
      "id": "rK_YDmf2g7ED",
      "metadata": {
        "id": "rK_YDmf2g7ED"
      },
      "outputs": [],
      "source": [
        "df.drop(df[df['Plant Id'] == 99999].index, axis='index', inplace=True)"
      ]
    },
    {
      "cell_type": "code",
      "execution_count": null,
      "id": "tdu5AxkscJ0b",
      "metadata": {
        "colab": {
          "base_uri": "https://localhost:8080/"
        },
        "id": "tdu5AxkscJ0b",
        "outputId": "830b79c3-acd2-41cd-e2ee-6cfb1e6f6f09"
      },
      "outputs": [
        {
          "name": "stdout",
          "output_type": "stream",
          "text": [
            "97\n"
          ]
        },
        {
          "data": {
            "text/plain": [
              "Index(['Plant Id', 'Combined Heat & Power Plant', 'Nuclear Unit Id',\n",
              "       'Plant Name', 'Operator Name', 'Operator Id', 'State', 'Census Region',\n",
              "       'NERC Region', 'Reserved', 'NAICS Code', 'EIA Sector Number',\n",
              "       'Sector Name', 'Reported Prime Mover', 'Reported Fuel Type Code',\n",
              "       'AER Fuel Type Code', 'Reserved.1', 'Reserved.2', 'Physical Unit Label',\n",
              "       'Quantity_Jan', 'Quantity_Feb', 'Quantity_Mar', 'Quantity_Apr',\n",
              "       'Quantity_May', 'Quantity_Jun', 'Quantity_Jul', 'Quantity_Aug',\n",
              "       'Quantity_Sep', 'Quantity_Oct', 'Quantity_Nov', 'Quantity_Dec',\n",
              "       'Elec_Quantity_Jan', 'Elec_Quantity_Feb', 'Elec_Quantity_Mar',\n",
              "       'Elec_Quantity_Apr', 'Elec_Quantity_May', 'Elec_Quantity_Jun',\n",
              "       'Elec_Quantity_Jul', 'Elec_Quantity_Aug', 'Elec_Quantity_Sep',\n",
              "       'Elec_Quantity_Oct', 'Elec_Quantity_Nov', 'Elec_Quantity_Dec',\n",
              "       'MMBtuPer_Unit_Jan', 'MMBtuPer_Unit_Feb', 'MMBtuPer_Unit_Mar',\n",
              "       'MMBtuPer_Unit_Apr', 'MMBtuPer_Unit_May', 'MMBtuPer_Unit_Jun',\n",
              "       'MMBtuPer_Unit_Jul', 'MMBtuPer_Unit_Aug', 'MMBtuPer_Unit_Sep',\n",
              "       'MMBtuPer_Unit_Oct', 'MMBtuPer_Unit_Nov', 'MMBtuPer_Unit_Dec',\n",
              "       'Tot_MMBtuJan', 'Tot_MMBtuFeb', 'Tot_MMBtuMar', 'Tot_MMBtuApr',\n",
              "       'Tot_MMBtuMay', 'Tot_MMBtuJun', 'Tot_MMBtuJul', 'Tot_MMBtuAug',\n",
              "       'Tot_MMBtuSep', 'Tot_MMBtuOct', 'Tot_MMBtuNov', 'Tot_MMBtuDec',\n",
              "       'Elec_MMBtuJan', 'Elec_MMBtuFeb', 'Elec_MMBtuMar', 'Elec_MMBtuApr',\n",
              "       'Elec_MMBtuMay', 'Elec_MMBtuJun', 'Elec_MMBtuJul', 'Elec_MMBtuAug',\n",
              "       'Elec_MMBtuSep', 'Elec_MMBtuOct', 'Elec_MMBtuNov', 'Elec_MMBtuDec',\n",
              "       'Netgen_Jan', 'Netgen_Feb', 'Netgen_Mar', 'Netgen_Apr', 'Netgen_May',\n",
              "       'Netgen_Jun', 'Netgen_Jul', 'Netgen_Aug', 'Netgen_Sep', 'Netgen_Oct',\n",
              "       'Netgen_Nov', 'Netgen_Dec', 'Total Fuel Consumption Quantity',\n",
              "       'Electric Fuel Consumption Quantity', 'Total Fuel Consumption MMBtu',\n",
              "       'Elec Fuel Consumption MMBtu', 'Net Generation (Megawatthours)',\n",
              "       'YEAR'],\n",
              "      dtype='object')"
            ]
          },
          "execution_count": 12,
          "metadata": {},
          "output_type": "execute_result"
        }
      ],
      "source": [
        "print(len(df.columns))\n",
        "df.columns"
      ]
    },
    {
      "cell_type": "code",
      "execution_count": null,
      "id": "0rYi3qWweBXe",
      "metadata": {
        "id": "0rYi3qWweBXe"
      },
      "outputs": [],
      "source": [
        "df.rename(columns={'Plant Id': 'Plant Id', 'Plant Name': 'Plant Name', 'Operator Name': 'Operator Name', 'Operator Id': 'Operator Id', 'State': 'State',\n",
        "                   'Reported Fuel Type Code': 'Reported Fuel Type Code', 'AER Fuel Type Code': 'AER Fuel Type Code',\n",
        "                   'Net Generation (Megawatthours)': 'Net Generation (Megawatthours)', 'Elec Fuel Consumption MMBtu': 'Elec Fuel Consumption MMBtu',\n",
        "                   'YEAR': 'Year'}, inplace=True)"
      ]
    },
    {
      "cell_type": "code",
      "execution_count": null,
      "id": "aQ8ngaRrcKws",
      "metadata": {
        "colab": {
          "base_uri": "https://localhost:8080/"
        },
        "id": "aQ8ngaRrcKws",
        "outputId": "a0174a93-4841-416e-b443-0aed46193ce4"
      },
      "outputs": [
        {
          "name": "stdout",
          "output_type": "stream",
          "text": [
            "(10289, 97)\n"
          ]
        },
        {
          "data": {
            "text/plain": [
              "2011    10289\n",
              "Name: Year, dtype: int64"
            ]
          },
          "execution_count": 14,
          "metadata": {},
          "output_type": "execute_result"
        }
      ],
      "source": [
        "print(df.shape)\n",
        "df['Year'].value_counts()"
      ]
    },
    {
      "cell_type": "code",
      "execution_count": null,
      "id": "x0nD4xu4gMpP",
      "metadata": {
        "id": "x0nD4xu4gMpP"
      },
      "outputs": [],
      "source": [
        "df.to_csv('ele_2011.csv', index = False, quoting=csv.QUOTE_NONNUMERIC)"
      ]
    },
    {
      "cell_type": "markdown",
      "id": "LzyUWWgqkfnX",
      "metadata": {
        "id": "LzyUWWgqkfnX"
      },
      "source": [
        "# 2012"
      ]
    },
    {
      "cell_type": "code",
      "execution_count": null,
      "id": "A5FZ5hT-kg1B",
      "metadata": {
        "colab": {
          "base_uri": "https://localhost:8080/",
          "height": 438
        },
        "id": "A5FZ5hT-kg1B",
        "outputId": "e58ee6a0-c247-4fe3-8364-155a1de90459"
      },
      "outputs": [
        {
          "data": {
            "text/html": [
              "<div>\n",
              "<style scoped>\n",
              "    .dataframe tbody tr th:only-of-type {\n",
              "        vertical-align: middle;\n",
              "    }\n",
              "\n",
              "    .dataframe tbody tr th {\n",
              "        vertical-align: top;\n",
              "    }\n",
              "\n",
              "    .dataframe thead th {\n",
              "        text-align: right;\n",
              "    }\n",
              "</style>\n",
              "<table border=\"1\" class=\"dataframe\">\n",
              "  <thead>\n",
              "    <tr style=\"text-align: right;\">\n",
              "      <th></th>\n",
              "      <th>Plant Id</th>\n",
              "      <th>Combined Heat And\\nPower Plant</th>\n",
              "      <th>Nuclear Unit Id</th>\n",
              "      <th>Plant Name</th>\n",
              "      <th>Operator Name</th>\n",
              "      <th>Operator Id</th>\n",
              "      <th>Plant State</th>\n",
              "      <th>Census Region</th>\n",
              "      <th>NERC Region</th>\n",
              "      <th>Reserved</th>\n",
              "      <th>...</th>\n",
              "      <th>Netgen\\nSeptember</th>\n",
              "      <th>Netgen\\nOctober</th>\n",
              "      <th>Netgen\\nNovember</th>\n",
              "      <th>Netgen\\nDecember</th>\n",
              "      <th>Total Fuel Consumption\\nQuantity</th>\n",
              "      <th>Electric Fuel Consumption\\nQuantity</th>\n",
              "      <th>Total Fuel Consumption\\nMMBtu</th>\n",
              "      <th>Elec Fuel Consumption\\nMMBtu</th>\n",
              "      <th>Net Generation\\n(Megawatthours)</th>\n",
              "      <th>YEAR</th>\n",
              "    </tr>\n",
              "  </thead>\n",
              "  <tbody>\n",
              "    <tr>\n",
              "      <th>0</th>\n",
              "      <td>2</td>\n",
              "      <td>N</td>\n",
              "      <td>NaN</td>\n",
              "      <td>Bankhead Dam</td>\n",
              "      <td>Alabama Power Co</td>\n",
              "      <td>195</td>\n",
              "      <td>AL</td>\n",
              "      <td>ESC</td>\n",
              "      <td>SERC</td>\n",
              "      <td>NaN</td>\n",
              "      <td>...</td>\n",
              "      <td>10017.213</td>\n",
              "      <td>11576.596</td>\n",
              "      <td>11378.155</td>\n",
              "      <td>17358.447</td>\n",
              "      <td>0</td>\n",
              "      <td>0</td>\n",
              "      <td>1514757</td>\n",
              "      <td>1514757</td>\n",
              "      <td>159180.00</td>\n",
              "      <td>2012</td>\n",
              "    </tr>\n",
              "    <tr>\n",
              "      <th>1</th>\n",
              "      <td>3</td>\n",
              "      <td>N</td>\n",
              "      <td>NaN</td>\n",
              "      <td>Barry</td>\n",
              "      <td>Alabama Power Co</td>\n",
              "      <td>195</td>\n",
              "      <td>AL</td>\n",
              "      <td>ESC</td>\n",
              "      <td>SERC</td>\n",
              "      <td>NaN</td>\n",
              "      <td>...</td>\n",
              "      <td>242342</td>\n",
              "      <td>251588</td>\n",
              "      <td>211905</td>\n",
              "      <td>261126</td>\n",
              "      <td>640125</td>\n",
              "      <td>640125</td>\n",
              "      <td>652416</td>\n",
              "      <td>652416</td>\n",
              "      <td>2851073.00</td>\n",
              "      <td>2012</td>\n",
              "    </tr>\n",
              "    <tr>\n",
              "      <th>2</th>\n",
              "      <td>3</td>\n",
              "      <td>N</td>\n",
              "      <td>NaN</td>\n",
              "      <td>Barry</td>\n",
              "      <td>Alabama Power Co</td>\n",
              "      <td>195</td>\n",
              "      <td>AL</td>\n",
              "      <td>ESC</td>\n",
              "      <td>SERC</td>\n",
              "      <td>NaN</td>\n",
              "      <td>...</td>\n",
              "      <td>431341</td>\n",
              "      <td>454159</td>\n",
              "      <td>386138</td>\n",
              "      <td>484909</td>\n",
              "      <td>54361491</td>\n",
              "      <td>54361491</td>\n",
              "      <td>55405154</td>\n",
              "      <td>55405154</td>\n",
              "      <td>5092309.00</td>\n",
              "      <td>2012</td>\n",
              "    </tr>\n",
              "    <tr>\n",
              "      <th>3</th>\n",
              "      <td>3</td>\n",
              "      <td>N</td>\n",
              "      <td>NaN</td>\n",
              "      <td>Barry</td>\n",
              "      <td>Alabama Power Co</td>\n",
              "      <td>195</td>\n",
              "      <td>AL</td>\n",
              "      <td>ESC</td>\n",
              "      <td>SERC</td>\n",
              "      <td>NaN</td>\n",
              "      <td>...</td>\n",
              "      <td>602948.34</td>\n",
              "      <td>427607.72</td>\n",
              "      <td>495229.57</td>\n",
              "      <td>340630.16</td>\n",
              "      <td>2405511</td>\n",
              "      <td>2405511</td>\n",
              "      <td>53178323</td>\n",
              "      <td>53178323</td>\n",
              "      <td>5181893.50</td>\n",
              "      <td>2012</td>\n",
              "    </tr>\n",
              "    <tr>\n",
              "      <th>4</th>\n",
              "      <td>3</td>\n",
              "      <td>N</td>\n",
              "      <td>NaN</td>\n",
              "      <td>Barry</td>\n",
              "      <td>Alabama Power Co</td>\n",
              "      <td>195</td>\n",
              "      <td>AL</td>\n",
              "      <td>ESC</td>\n",
              "      <td>SERC</td>\n",
              "      <td>NaN</td>\n",
              "      <td>...</td>\n",
              "      <td>17202.661</td>\n",
              "      <td>26204.276</td>\n",
              "      <td>10804.435</td>\n",
              "      <td>31387.839</td>\n",
              "      <td>1377674</td>\n",
              "      <td>1377674</td>\n",
              "      <td>1405818</td>\n",
              "      <td>1405818</td>\n",
              "      <td>137253.46</td>\n",
              "      <td>2012</td>\n",
              "    </tr>\n",
              "  </tbody>\n",
              "</table>\n",
              "<p>5 rows × 97 columns</p>\n",
              "</div>"
            ],
            "text/plain": [
              "   Plant Id Combined Heat And\\nPower Plant  Nuclear Unit Id    Plant Name  \\\n",
              "0         2                              N              NaN  Bankhead Dam   \n",
              "1         3                              N              NaN         Barry   \n",
              "2         3                              N              NaN         Barry   \n",
              "3         3                              N              NaN         Barry   \n",
              "4         3                              N              NaN         Barry   \n",
              "\n",
              "      Operator Name  Operator Id Plant State Census Region NERC Region  \\\n",
              "0  Alabama Power Co          195          AL           ESC        SERC   \n",
              "1  Alabama Power Co          195          AL           ESC        SERC   \n",
              "2  Alabama Power Co          195          AL           ESC        SERC   \n",
              "3  Alabama Power Co          195          AL           ESC        SERC   \n",
              "4  Alabama Power Co          195          AL           ESC        SERC   \n",
              "\n",
              "   Reserved  ...  Netgen\\nSeptember  Netgen\\nOctober Netgen\\nNovember  \\\n",
              "0       NaN  ...          10017.213        11576.596        11378.155   \n",
              "1       NaN  ...             242342           251588           211905   \n",
              "2       NaN  ...             431341           454159           386138   \n",
              "3       NaN  ...          602948.34        427607.72        495229.57   \n",
              "4       NaN  ...          17202.661        26204.276        10804.435   \n",
              "\n",
              "  Netgen\\nDecember Total Fuel Consumption\\nQuantity  \\\n",
              "0        17358.447                                0   \n",
              "1           261126                           640125   \n",
              "2           484909                         54361491   \n",
              "3        340630.16                          2405511   \n",
              "4        31387.839                          1377674   \n",
              "\n",
              "  Electric Fuel Consumption\\nQuantity  Total Fuel Consumption\\nMMBtu  \\\n",
              "0                                   0                        1514757   \n",
              "1                              640125                         652416   \n",
              "2                            54361491                       55405154   \n",
              "3                             2405511                       53178323   \n",
              "4                             1377674                        1405818   \n",
              "\n",
              "   Elec Fuel Consumption\\nMMBtu Net Generation\\n(Megawatthours)  YEAR  \n",
              "0                       1514757                       159180.00  2012  \n",
              "1                        652416                      2851073.00  2012  \n",
              "2                      55405154                      5092309.00  2012  \n",
              "3                      53178323                      5181893.50  2012  \n",
              "4                       1405818                       137253.46  2012  \n",
              "\n",
              "[5 rows x 97 columns]"
            ]
          },
          "execution_count": 16,
          "metadata": {},
          "output_type": "execute_result"
        }
      ],
      "source": [
        "df = pd.read_excel('./initial/Electric/original/ELECTRIC_2012.xlsx', skiprows=5)\n",
        "df.head()"
      ]
    },
    {
      "cell_type": "code",
      "execution_count": null,
      "id": "rYQOeTDehDJO",
      "metadata": {
        "id": "rYQOeTDehDJO"
      },
      "outputs": [],
      "source": [
        "df.drop(df[df['Plant Id'] == 99999].index, axis='index', inplace=True)"
      ]
    },
    {
      "cell_type": "code",
      "execution_count": null,
      "id": "EB1tjPtJkg1C",
      "metadata": {
        "colab": {
          "base_uri": "https://localhost:8080/"
        },
        "id": "EB1tjPtJkg1C",
        "outputId": "14e109b4-92a9-4052-f03b-fef4ca8fdfff"
      },
      "outputs": [
        {
          "name": "stdout",
          "output_type": "stream",
          "text": [
            "97\n"
          ]
        },
        {
          "data": {
            "text/plain": [
              "Index(['Plant Id', 'Combined Heat And\\nPower Plant', 'Nuclear Unit Id',\n",
              "       'Plant Name', 'Operator Name', 'Operator Id', 'Plant State',\n",
              "       'Census Region', 'NERC Region', 'Reserved', 'NAICS Code',\n",
              "       'EIA Sector Number', 'Sector Name', 'Reported\\nPrime Mover',\n",
              "       'Reported\\nFuel Type Code', 'AER\\nFuel Type Code', 'Reserved.1',\n",
              "       'Reserved.2', 'Physical\\nUnit Label', 'Quantity\\nJanuary',\n",
              "       'Quantity\\nFebruary', 'Quantity\\nMarch', 'Quantity\\nApril',\n",
              "       'Quantity\\nMay', 'Quantity\\nJune', 'Quantity\\nJuly', 'Quantity\\nAugust',\n",
              "       'Quantity\\nSeptember', 'Quantity\\nOctober', 'Quantity\\nNovember',\n",
              "       'Quantity\\nDecember', 'Elec_Quantity\\nJanuary',\n",
              "       'Elec_Quantity\\nFebruary', 'Elec_Quantity\\nMarch',\n",
              "       'Elec_Quantity\\nApril', 'Elec_Quantity\\nMay', 'Elec_Quantity\\nJune',\n",
              "       'Elec_Quantity\\nJuly', 'Elec_Quantity\\nAugust',\n",
              "       'Elec_Quantity\\nSeptember', 'Elec_Quantity\\nOctober',\n",
              "       'Elec_Quantity\\nNovember', 'Elec_Quantity\\nDecember',\n",
              "       'MMBtuPer_Unit\\nJanuary', 'MMBtuPer_Unit\\nFebruary',\n",
              "       'MMBtuPer_Unit\\nMarch', 'MMBtuPer_Unit\\nApril', 'MMBtuPer_Unit\\nMay',\n",
              "       'MMBtuPer_Unit\\nJune', 'MMBtuPer_Unit\\nJuly', 'MMBtuPer_Unit\\nAugust',\n",
              "       'MMBtuPer_Unit\\nSeptember', 'MMBtuPer_Unit\\nOctober',\n",
              "       'MMBtuPer_Unit\\nNovember', 'MMBtuPer_Unit\\nDecember',\n",
              "       'Tot_MMBtu\\nJanuary', 'Tot_MMBtu\\nFebruary', 'Tot_MMBtu\\nMarch',\n",
              "       'Tot_MMBtu\\nApril', 'Tot_MMBtu\\nMay', 'Tot_MMBtu\\nJune',\n",
              "       'Tot_MMBtu\\nJuly', 'Tot_MMBtu\\nAugust', 'Tot_MMBtu\\nSeptember',\n",
              "       'Tot_MMBtu\\nOctober', 'Tot_MMBtu\\nNovember', 'Tot_MMBtu\\nDecember',\n",
              "       'Elec_MMBtu\\nJanuary', 'Elec_MMBtu\\nFebruary', 'Elec_MMBtu\\nMarch',\n",
              "       'Elec_MMBtu\\nApril', 'Elec_MMBtu\\nMay', 'Elec_MMBtu\\nJune',\n",
              "       'Elec_MMBtu\\nJuly', 'Elec_MMBtu\\nAugust', 'Elec_MMBtu\\nSeptember',\n",
              "       'Elec_MMBtu\\nOctober', 'Elec_MMBtu\\nNovember', 'Elec_MMBtu\\nDecember',\n",
              "       'Netgen\\nJanuary', 'Netgen\\nFebruary', 'Netgen\\nMarch', 'Netgen\\nApril',\n",
              "       'Netgen\\nMay', 'Netgen\\nJune', 'Netgen\\nJuly', 'Netgen\\nAugust',\n",
              "       'Netgen\\nSeptember', 'Netgen\\nOctober', 'Netgen\\nNovember',\n",
              "       'Netgen\\nDecember', 'Total Fuel Consumption\\nQuantity',\n",
              "       'Electric Fuel Consumption\\nQuantity', 'Total Fuel Consumption\\nMMBtu',\n",
              "       'Elec Fuel Consumption\\nMMBtu', 'Net Generation\\n(Megawatthours)',\n",
              "       'YEAR'],\n",
              "      dtype='object')"
            ]
          },
          "execution_count": 18,
          "metadata": {},
          "output_type": "execute_result"
        }
      ],
      "source": [
        "print(len(df.columns))\n",
        "df.columns"
      ]
    },
    {
      "cell_type": "code",
      "execution_count": null,
      "id": "tPzKqAXGkg1C",
      "metadata": {
        "id": "tPzKqAXGkg1C"
      },
      "outputs": [],
      "source": [
        "df.rename(columns={'Plant Id': 'Plant Id', 'Plant Name': 'Plant Name', 'Operator Name': 'Operator Name', 'Operator Id': 'Operator Id', 'Plant State': 'State',\n",
        "                   'Reported\\nFuel Type Code': 'Reported Fuel Type Code', 'AER\\nFuel Type Code': 'AER Fuel Type Code',\n",
        "                   'Net Generation\\n(Megawatthours)': 'Net Generation (Megawatthours)', 'Elec Fuel Consumption\\nMMBtu': 'Elec Fuel Consumption MMBtu',\n",
        "                   'YEAR': 'Year'}, inplace=True)"
      ]
    },
    {
      "cell_type": "code",
      "execution_count": null,
      "id": "Wm_NYHjCkg1D",
      "metadata": {
        "colab": {
          "base_uri": "https://localhost:8080/"
        },
        "id": "Wm_NYHjCkg1D",
        "outputId": "9a055983-6ac5-4a8b-c8c5-653b15f52d71"
      },
      "outputs": [
        {
          "name": "stdout",
          "output_type": "stream",
          "text": [
            "(10864, 97)\n"
          ]
        },
        {
          "data": {
            "text/plain": [
              "2012    10864\n",
              "Name: Year, dtype: int64"
            ]
          },
          "execution_count": 20,
          "metadata": {},
          "output_type": "execute_result"
        }
      ],
      "source": [
        "print(df.shape)\n",
        "df['Year'].value_counts()"
      ]
    },
    {
      "cell_type": "code",
      "execution_count": null,
      "id": "mbtSYLJGkg1D",
      "metadata": {
        "id": "mbtSYLJGkg1D"
      },
      "outputs": [],
      "source": [
        "df.to_csv('ele_2012.csv', index = False, quoting=csv.QUOTE_NONNUMERIC)"
      ]
    },
    {
      "cell_type": "markdown",
      "id": "7EXgIeeklJ4x",
      "metadata": {
        "id": "7EXgIeeklJ4x"
      },
      "source": [
        "# 2013"
      ]
    },
    {
      "cell_type": "code",
      "execution_count": null,
      "id": "W7D8LWQ3lPCV",
      "metadata": {
        "colab": {
          "base_uri": "https://localhost:8080/",
          "height": 438
        },
        "id": "W7D8LWQ3lPCV",
        "outputId": "f02f5d18-ee28-443b-b723-cd9934a029be"
      },
      "outputs": [
        {
          "data": {
            "text/html": [
              "<div>\n",
              "<style scoped>\n",
              "    .dataframe tbody tr th:only-of-type {\n",
              "        vertical-align: middle;\n",
              "    }\n",
              "\n",
              "    .dataframe tbody tr th {\n",
              "        vertical-align: top;\n",
              "    }\n",
              "\n",
              "    .dataframe thead th {\n",
              "        text-align: right;\n",
              "    }\n",
              "</style>\n",
              "<table border=\"1\" class=\"dataframe\">\n",
              "  <thead>\n",
              "    <tr style=\"text-align: right;\">\n",
              "      <th></th>\n",
              "      <th>Plant Id</th>\n",
              "      <th>Combined Heat &amp; Power Plant</th>\n",
              "      <th>Nuclear Unit Id</th>\n",
              "      <th>Plant Name</th>\n",
              "      <th>Operator Name</th>\n",
              "      <th>Operator Id</th>\n",
              "      <th>State</th>\n",
              "      <th>Census Region</th>\n",
              "      <th>NERC Region</th>\n",
              "      <th>Reserved</th>\n",
              "      <th>...</th>\n",
              "      <th>Netgen_Sep</th>\n",
              "      <th>Netgen_Oct</th>\n",
              "      <th>Netgen_Nov</th>\n",
              "      <th>Netgen_Dec</th>\n",
              "      <th>Total Fuel Consumption Quantity</th>\n",
              "      <th>Electric Fuel Consumption Quantity</th>\n",
              "      <th>Total Fuel Consumption MMBtu</th>\n",
              "      <th>Elec Fuel Consumption MMBtu</th>\n",
              "      <th>Net Generation (Megawatthours)</th>\n",
              "      <th>YEAR</th>\n",
              "    </tr>\n",
              "  </thead>\n",
              "  <tbody>\n",
              "    <tr>\n",
              "      <th>0</th>\n",
              "      <td>2</td>\n",
              "      <td>N</td>\n",
              "      <td>NaN</td>\n",
              "      <td>Bankhead Dam</td>\n",
              "      <td>Alabama Power Co</td>\n",
              "      <td>195</td>\n",
              "      <td>AL</td>\n",
              "      <td>ESC</td>\n",
              "      <td>SERC</td>\n",
              "      <td>NaN</td>\n",
              "      <td>...</td>\n",
              "      <td>10038.302</td>\n",
              "      <td>9972.835</td>\n",
              "      <td>10268.858</td>\n",
              "      <td>24288.335</td>\n",
              "      <td>0</td>\n",
              "      <td>0</td>\n",
              "      <td>2016412</td>\n",
              "      <td>2016412</td>\n",
              "      <td>211342.00</td>\n",
              "      <td>2013</td>\n",
              "    </tr>\n",
              "    <tr>\n",
              "      <th>1</th>\n",
              "      <td>3</td>\n",
              "      <td>N</td>\n",
              "      <td>NaN</td>\n",
              "      <td>Barry</td>\n",
              "      <td>Alabama Power Co</td>\n",
              "      <td>195</td>\n",
              "      <td>AL</td>\n",
              "      <td>ESC</td>\n",
              "      <td>SERC</td>\n",
              "      <td>NaN</td>\n",
              "      <td>...</td>\n",
              "      <td>238775</td>\n",
              "      <td>238711</td>\n",
              "      <td>256685</td>\n",
              "      <td>264211</td>\n",
              "      <td>575166</td>\n",
              "      <td>575166</td>\n",
              "      <td>588611</td>\n",
              "      <td>588611</td>\n",
              "      <td>2813479.00</td>\n",
              "      <td>2013</td>\n",
              "    </tr>\n",
              "    <tr>\n",
              "      <th>2</th>\n",
              "      <td>3</td>\n",
              "      <td>N</td>\n",
              "      <td>NaN</td>\n",
              "      <td>Barry</td>\n",
              "      <td>Alabama Power Co</td>\n",
              "      <td>195</td>\n",
              "      <td>AL</td>\n",
              "      <td>ESC</td>\n",
              "      <td>SERC</td>\n",
              "      <td>NaN</td>\n",
              "      <td>...</td>\n",
              "      <td>420814</td>\n",
              "      <td>427139</td>\n",
              "      <td>451818</td>\n",
              "      <td>467745</td>\n",
              "      <td>53116114</td>\n",
              "      <td>53116114</td>\n",
              "      <td>54371640</td>\n",
              "      <td>54371640</td>\n",
              "      <td>5004417.00</td>\n",
              "      <td>2013</td>\n",
              "    </tr>\n",
              "    <tr>\n",
              "      <th>3</th>\n",
              "      <td>3</td>\n",
              "      <td>N</td>\n",
              "      <td>NaN</td>\n",
              "      <td>Barry</td>\n",
              "      <td>Alabama Power Co</td>\n",
              "      <td>195</td>\n",
              "      <td>AL</td>\n",
              "      <td>ESC</td>\n",
              "      <td>SERC</td>\n",
              "      <td>NaN</td>\n",
              "      <td>...</td>\n",
              "      <td>578038.88</td>\n",
              "      <td>579764.55</td>\n",
              "      <td>143120.38</td>\n",
              "      <td>219258.08</td>\n",
              "      <td>2417558</td>\n",
              "      <td>2417558</td>\n",
              "      <td>51202482</td>\n",
              "      <td>51202482</td>\n",
              "      <td>4962411.90</td>\n",
              "      <td>2013</td>\n",
              "    </tr>\n",
              "    <tr>\n",
              "      <th>4</th>\n",
              "      <td>3</td>\n",
              "      <td>N</td>\n",
              "      <td>NaN</td>\n",
              "      <td>Barry</td>\n",
              "      <td>Alabama Power Co</td>\n",
              "      <td>195</td>\n",
              "      <td>AL</td>\n",
              "      <td>ESC</td>\n",
              "      <td>SERC</td>\n",
              "      <td>NaN</td>\n",
              "      <td>...</td>\n",
              "      <td>4814.121</td>\n",
              "      <td>5506.447</td>\n",
              "      <td>1674.624</td>\n",
              "      <td>6645.925</td>\n",
              "      <td>1178044</td>\n",
              "      <td>1178044</td>\n",
              "      <td>1206368</td>\n",
              "      <td>1206368</td>\n",
              "      <td>116829.14</td>\n",
              "      <td>2013</td>\n",
              "    </tr>\n",
              "  </tbody>\n",
              "</table>\n",
              "<p>5 rows × 97 columns</p>\n",
              "</div>"
            ],
            "text/plain": [
              "   Plant Id Combined Heat & Power Plant  Nuclear Unit Id    Plant Name  \\\n",
              "0         2                           N              NaN  Bankhead Dam   \n",
              "1         3                           N              NaN         Barry   \n",
              "2         3                           N              NaN         Barry   \n",
              "3         3                           N              NaN         Barry   \n",
              "4         3                           N              NaN         Barry   \n",
              "\n",
              "      Operator Name  Operator Id State Census Region NERC Region  Reserved  \\\n",
              "0  Alabama Power Co          195    AL           ESC        SERC       NaN   \n",
              "1  Alabama Power Co          195    AL           ESC        SERC       NaN   \n",
              "2  Alabama Power Co          195    AL           ESC        SERC       NaN   \n",
              "3  Alabama Power Co          195    AL           ESC        SERC       NaN   \n",
              "4  Alabama Power Co          195    AL           ESC        SERC       NaN   \n",
              "\n",
              "   ...  Netgen_Sep  Netgen_Oct Netgen_Nov Netgen_Dec  \\\n",
              "0  ...   10038.302    9972.835  10268.858  24288.335   \n",
              "1  ...      238775      238711     256685     264211   \n",
              "2  ...      420814      427139     451818     467745   \n",
              "3  ...   578038.88   579764.55  143120.38  219258.08   \n",
              "4  ...    4814.121    5506.447   1674.624   6645.925   \n",
              "\n",
              "  Total Fuel Consumption Quantity Electric Fuel Consumption Quantity  \\\n",
              "0                               0                                  0   \n",
              "1                          575166                             575166   \n",
              "2                        53116114                           53116114   \n",
              "3                         2417558                            2417558   \n",
              "4                         1178044                            1178044   \n",
              "\n",
              "   Total Fuel Consumption MMBtu  Elec Fuel Consumption MMBtu  \\\n",
              "0                       2016412                      2016412   \n",
              "1                        588611                       588611   \n",
              "2                      54371640                     54371640   \n",
              "3                      51202482                     51202482   \n",
              "4                       1206368                      1206368   \n",
              "\n",
              "  Net Generation (Megawatthours)  YEAR  \n",
              "0                      211342.00  2013  \n",
              "1                     2813479.00  2013  \n",
              "2                     5004417.00  2013  \n",
              "3                     4962411.90  2013  \n",
              "4                      116829.14  2013  \n",
              "\n",
              "[5 rows x 97 columns]"
            ]
          },
          "execution_count": 22,
          "metadata": {},
          "output_type": "execute_result"
        }
      ],
      "source": [
        "df = pd.read_excel('./initial/Electric/original/ELECTRIC_2013.xlsx', skiprows=5)\n",
        "df.head()"
      ]
    },
    {
      "cell_type": "code",
      "execution_count": null,
      "id": "wKYK1hMthE2k",
      "metadata": {
        "id": "wKYK1hMthE2k"
      },
      "outputs": [],
      "source": [
        "df.drop(df[df['Plant Id'] == 99999].index, axis='index', inplace=True)"
      ]
    },
    {
      "cell_type": "code",
      "execution_count": null,
      "id": "iPLoVeL4lPCW",
      "metadata": {
        "colab": {
          "base_uri": "https://localhost:8080/"
        },
        "id": "iPLoVeL4lPCW",
        "outputId": "56e7d5ab-c92a-4a54-d0a6-bea307988d33"
      },
      "outputs": [
        {
          "name": "stdout",
          "output_type": "stream",
          "text": [
            "97\n"
          ]
        },
        {
          "data": {
            "text/plain": [
              "Index(['Plant Id', 'Combined Heat & Power Plant', 'Nuclear Unit Id',\n",
              "       'Plant Name', 'Operator Name', 'Operator Id', 'State', 'Census Region',\n",
              "       'NERC Region', 'Reserved', 'NAICS Code', 'EIA Sector Number',\n",
              "       'Sector Name', 'Reported Prime Mover', 'Reported Fuel Type Code',\n",
              "       'AER Fuel Type Code', 'Reserved.1', 'Reserved.2', 'Physical Unit Label',\n",
              "       'Quantity_Jan', 'Quantity_Feb', 'Quantity_Mar', 'Quantity_Apr',\n",
              "       'Quantity_May', 'Quantity_Jun', 'Quantity_Jul', 'Quantity_Aug',\n",
              "       'Quantity_Sep', 'Quantity_Oct', 'Quantity_Nov', 'Quantity_Dec',\n",
              "       'Elec_Quantity_Jan', 'Elec_Quantity_Feb', 'Elec_Quantity_Mar',\n",
              "       'Elec_Quantity_Apr', 'Elec_Quantity_May', 'Elec_Quantity_Jun',\n",
              "       'Elec_Quantity_Jul', 'Elec_Quantity_Aug', 'Elec_Quantity_Sep',\n",
              "       'Elec_Quantity_Oct', 'Elec_Quantity_Nov', 'Elec_Quantity_Dec',\n",
              "       'MMBtuPer_Unit_Jan', 'MMBtuPer_Unit_Feb', 'MMBtuPer_Unit_Mar',\n",
              "       'MMBtuPer_Unit_Apr', 'MMBtuPer_Unit_May', 'MMBtuPer_Unit_Jun',\n",
              "       'MMBtuPer_Unit_Jul', 'MMBtuPer_Unit_Aug', 'MMBtuPer_Unit_Sep',\n",
              "       'MMBtuPer_Unit_Oct', 'MMBtuPer_Unit_Nov', 'MMBtuPer_Unit_Dec',\n",
              "       'Tot_MMBtuJan', 'Tot_MMBtuFeb', 'Tot_MMBtuMar', 'Tot_MMBtuApr',\n",
              "       'Tot_MMBtuMay', 'Tot_MMBtuJun', 'Tot_MMBtuJul', 'Tot_MMBtuAug',\n",
              "       'Tot_MMBtuSep', 'Tot_MMBtuOct', 'Tot_MMBtuNov', 'Tot_MMBtuDec',\n",
              "       'Elec_MMBtuJan', 'Elec_MMBtuFeb', 'Elec_MMBtuMar', 'Elec_MMBtuApr',\n",
              "       'Elec_MMBtuMay', 'Elec_MMBtuJun', 'Elec_MMBtuJul', 'Elec_MMBtuAug',\n",
              "       'Elec_MMBtuSep', 'Elec_MMBtuOct', 'Elec_MMBtuNov', 'Elec_MMBtuDec',\n",
              "       'Netgen_Jan', 'Netgen_Feb', 'Netgen_Mar', 'Netgen_Apr', 'Netgen_May',\n",
              "       'Netgen_Jun', 'Netgen_Jul', 'Netgen_Aug', 'Netgen_Sep', 'Netgen_Oct',\n",
              "       'Netgen_Nov', 'Netgen_Dec', 'Total Fuel Consumption Quantity',\n",
              "       'Electric Fuel Consumption Quantity', 'Total Fuel Consumption MMBtu',\n",
              "       'Elec Fuel Consumption MMBtu', 'Net Generation (Megawatthours)',\n",
              "       'YEAR'],\n",
              "      dtype='object')"
            ]
          },
          "execution_count": 24,
          "metadata": {},
          "output_type": "execute_result"
        }
      ],
      "source": [
        "print(len(df.columns))\n",
        "df.columns"
      ]
    },
    {
      "cell_type": "code",
      "execution_count": null,
      "id": "uR7D1LcXlPCW",
      "metadata": {
        "id": "uR7D1LcXlPCW"
      },
      "outputs": [],
      "source": [
        "df.rename(columns={'Plant Id': 'Plant Id', 'Plant Name': 'Plant Name', 'Operator Name': 'Operator Name', 'Operator Id': 'Operator Id', 'State': 'State',\n",
        "                   'Reported Fuel Type Code': 'Reported Fuel Type Code', 'AER Fuel Type Code': 'AER Fuel Type Code',\n",
        "                   'Net Generation (Megawatthours)': 'Net Generation (Megawatthours)', 'Elec Fuel Consumption MMBtu': 'Elec Fuel Consumption MMBtu',\n",
        "                   'YEAR': 'Year'}, inplace=True)"
      ]
    },
    {
      "cell_type": "code",
      "execution_count": null,
      "id": "E9TYiIfklPCX",
      "metadata": {
        "colab": {
          "base_uri": "https://localhost:8080/"
        },
        "id": "E9TYiIfklPCX",
        "outputId": "1a6bf820-6f85-4efd-ad7f-a9dcfa5591c3"
      },
      "outputs": [
        {
          "name": "stdout",
          "output_type": "stream",
          "text": [
            "(11355, 97)\n"
          ]
        },
        {
          "data": {
            "text/plain": [
              "2013    11355\n",
              "Name: Year, dtype: int64"
            ]
          },
          "execution_count": 26,
          "metadata": {},
          "output_type": "execute_result"
        }
      ],
      "source": [
        "print(df.shape)\n",
        "df['Year'].value_counts()"
      ]
    },
    {
      "cell_type": "code",
      "execution_count": null,
      "id": "P_l0YJCTlPCX",
      "metadata": {
        "id": "P_l0YJCTlPCX"
      },
      "outputs": [],
      "source": [
        "df.to_csv('ele_2013.csv', index = False, quoting=csv.QUOTE_NONNUMERIC)"
      ]
    },
    {
      "cell_type": "markdown",
      "id": "sRWzM-oMlw9_",
      "metadata": {
        "id": "sRWzM-oMlw9_"
      },
      "source": [
        "# 2014"
      ]
    },
    {
      "cell_type": "code",
      "execution_count": null,
      "id": "8rPfHzf0lx9R",
      "metadata": {
        "colab": {
          "base_uri": "https://localhost:8080/",
          "height": 438
        },
        "id": "8rPfHzf0lx9R",
        "outputId": "1c22811e-3e46-4866-f3c9-69d28d75c90d"
      },
      "outputs": [
        {
          "data": {
            "text/html": [
              "<div>\n",
              "<style scoped>\n",
              "    .dataframe tbody tr th:only-of-type {\n",
              "        vertical-align: middle;\n",
              "    }\n",
              "\n",
              "    .dataframe tbody tr th {\n",
              "        vertical-align: top;\n",
              "    }\n",
              "\n",
              "    .dataframe thead th {\n",
              "        text-align: right;\n",
              "    }\n",
              "</style>\n",
              "<table border=\"1\" class=\"dataframe\">\n",
              "  <thead>\n",
              "    <tr style=\"text-align: right;\">\n",
              "      <th></th>\n",
              "      <th>Plant Id</th>\n",
              "      <th>Combined Heat And\\nPower Plant</th>\n",
              "      <th>Nuclear Unit Id</th>\n",
              "      <th>Plant Name</th>\n",
              "      <th>Operator Name</th>\n",
              "      <th>Operator Id</th>\n",
              "      <th>Plant State</th>\n",
              "      <th>Census Region</th>\n",
              "      <th>NERC Region</th>\n",
              "      <th>Reserved</th>\n",
              "      <th>...</th>\n",
              "      <th>Netgen\\nSeptember</th>\n",
              "      <th>Netgen\\nOctober</th>\n",
              "      <th>Netgen\\nNovember</th>\n",
              "      <th>Netgen\\nDecember</th>\n",
              "      <th>Total Fuel Consumption\\nQuantity</th>\n",
              "      <th>Electric Fuel Consumption\\nQuantity</th>\n",
              "      <th>Total Fuel Consumption\\nMMBtu</th>\n",
              "      <th>Elec Fuel Consumption\\nMMBtu</th>\n",
              "      <th>Net Generation\\n(Megawatthours)</th>\n",
              "      <th>YEAR</th>\n",
              "    </tr>\n",
              "  </thead>\n",
              "  <tbody>\n",
              "    <tr>\n",
              "      <th>0</th>\n",
              "      <td>2</td>\n",
              "      <td>N</td>\n",
              "      <td>.</td>\n",
              "      <td>Bankhead Dam</td>\n",
              "      <td>Alabama Power Co</td>\n",
              "      <td>195</td>\n",
              "      <td>AL</td>\n",
              "      <td>ESC</td>\n",
              "      <td>SERC</td>\n",
              "      <td>NaN</td>\n",
              "      <td>...</td>\n",
              "      <td>2158.114</td>\n",
              "      <td>3787.842</td>\n",
              "      <td>3950.73</td>\n",
              "      <td>5101.453</td>\n",
              "      <td>0</td>\n",
              "      <td>0</td>\n",
              "      <td>450688</td>\n",
              "      <td>450688</td>\n",
              "      <td>47391.000</td>\n",
              "      <td>2014</td>\n",
              "    </tr>\n",
              "    <tr>\n",
              "      <th>1</th>\n",
              "      <td>3</td>\n",
              "      <td>N</td>\n",
              "      <td>.</td>\n",
              "      <td>Barry</td>\n",
              "      <td>Alabama Power Co</td>\n",
              "      <td>195</td>\n",
              "      <td>AL</td>\n",
              "      <td>ESC</td>\n",
              "      <td>SERC</td>\n",
              "      <td>NaN</td>\n",
              "      <td>...</td>\n",
              "      <td>231626</td>\n",
              "      <td>272789</td>\n",
              "      <td>263943</td>\n",
              "      <td>239198</td>\n",
              "      <td>620422</td>\n",
              "      <td>620422</td>\n",
              "      <td>638256</td>\n",
              "      <td>638256</td>\n",
              "      <td>2838798.000</td>\n",
              "      <td>2014</td>\n",
              "    </tr>\n",
              "    <tr>\n",
              "      <th>2</th>\n",
              "      <td>3</td>\n",
              "      <td>N</td>\n",
              "      <td>.</td>\n",
              "      <td>Barry</td>\n",
              "      <td>Alabama Power Co</td>\n",
              "      <td>195</td>\n",
              "      <td>AL</td>\n",
              "      <td>ESC</td>\n",
              "      <td>SERC</td>\n",
              "      <td>NaN</td>\n",
              "      <td>...</td>\n",
              "      <td>390970</td>\n",
              "      <td>470114</td>\n",
              "      <td>467025</td>\n",
              "      <td>424903</td>\n",
              "      <td>52954669</td>\n",
              "      <td>52954669</td>\n",
              "      <td>54383172</td>\n",
              "      <td>54383172</td>\n",
              "      <td>4906688.000</td>\n",
              "      <td>2014</td>\n",
              "    </tr>\n",
              "    <tr>\n",
              "      <th>3</th>\n",
              "      <td>3</td>\n",
              "      <td>N</td>\n",
              "      <td>.</td>\n",
              "      <td>Barry</td>\n",
              "      <td>Alabama Power Co</td>\n",
              "      <td>195</td>\n",
              "      <td>AL</td>\n",
              "      <td>ESC</td>\n",
              "      <td>SERC</td>\n",
              "      <td>NaN</td>\n",
              "      <td>...</td>\n",
              "      <td>503937.29</td>\n",
              "      <td>260814.71</td>\n",
              "      <td>227758.76</td>\n",
              "      <td>274925.88</td>\n",
              "      <td>2497288</td>\n",
              "      <td>2497288</td>\n",
              "      <td>53018821</td>\n",
              "      <td>53018821</td>\n",
              "      <td>5142849.400</td>\n",
              "      <td>2014</td>\n",
              "    </tr>\n",
              "    <tr>\n",
              "      <th>4</th>\n",
              "      <td>3</td>\n",
              "      <td>N</td>\n",
              "      <td>.</td>\n",
              "      <td>Barry</td>\n",
              "      <td>Alabama Power Co</td>\n",
              "      <td>195</td>\n",
              "      <td>AL</td>\n",
              "      <td>ESC</td>\n",
              "      <td>SERC</td>\n",
              "      <td>NaN</td>\n",
              "      <td>...</td>\n",
              "      <td>4090.714</td>\n",
              "      <td>2887.291</td>\n",
              "      <td>4604.238</td>\n",
              "      <td>4552.117</td>\n",
              "      <td>933378</td>\n",
              "      <td>933378</td>\n",
              "      <td>957522</td>\n",
              "      <td>957522</td>\n",
              "      <td>92693.568</td>\n",
              "      <td>2014</td>\n",
              "    </tr>\n",
              "  </tbody>\n",
              "</table>\n",
              "<p>5 rows × 97 columns</p>\n",
              "</div>"
            ],
            "text/plain": [
              "   Plant Id Combined Heat And\\nPower Plant Nuclear Unit Id    Plant Name  \\\n",
              "0         2                              N               .  Bankhead Dam   \n",
              "1         3                              N               .         Barry   \n",
              "2         3                              N               .         Barry   \n",
              "3         3                              N               .         Barry   \n",
              "4         3                              N               .         Barry   \n",
              "\n",
              "      Operator Name Operator Id Plant State Census Region NERC Region  \\\n",
              "0  Alabama Power Co         195          AL           ESC        SERC   \n",
              "1  Alabama Power Co         195          AL           ESC        SERC   \n",
              "2  Alabama Power Co         195          AL           ESC        SERC   \n",
              "3  Alabama Power Co         195          AL           ESC        SERC   \n",
              "4  Alabama Power Co         195          AL           ESC        SERC   \n",
              "\n",
              "   Reserved  ...  Netgen\\nSeptember  Netgen\\nOctober Netgen\\nNovember  \\\n",
              "0       NaN  ...           2158.114         3787.842          3950.73   \n",
              "1       NaN  ...             231626           272789           263943   \n",
              "2       NaN  ...             390970           470114           467025   \n",
              "3       NaN  ...          503937.29        260814.71        227758.76   \n",
              "4       NaN  ...           4090.714         2887.291         4604.238   \n",
              "\n",
              "  Netgen\\nDecember Total Fuel Consumption\\nQuantity  \\\n",
              "0         5101.453                                0   \n",
              "1           239198                           620422   \n",
              "2           424903                         52954669   \n",
              "3        274925.88                          2497288   \n",
              "4         4552.117                           933378   \n",
              "\n",
              "  Electric Fuel Consumption\\nQuantity  Total Fuel Consumption\\nMMBtu  \\\n",
              "0                                   0                         450688   \n",
              "1                              620422                         638256   \n",
              "2                            52954669                       54383172   \n",
              "3                             2497288                       53018821   \n",
              "4                              933378                         957522   \n",
              "\n",
              "   Elec Fuel Consumption\\nMMBtu Net Generation\\n(Megawatthours)  YEAR  \n",
              "0                        450688                       47391.000  2014  \n",
              "1                        638256                     2838798.000  2014  \n",
              "2                      54383172                     4906688.000  2014  \n",
              "3                      53018821                     5142849.400  2014  \n",
              "4                        957522                       92693.568  2014  \n",
              "\n",
              "[5 rows x 97 columns]"
            ]
          },
          "execution_count": 28,
          "metadata": {},
          "output_type": "execute_result"
        }
      ],
      "source": [
        "df = pd.read_excel('./initial/Electric/original/ELECTRIC_2014.xlsx', skiprows=5)\n",
        "df.head()"
      ]
    },
    {
      "cell_type": "code",
      "execution_count": null,
      "id": "AqgwAa3ghGKQ",
      "metadata": {
        "id": "AqgwAa3ghGKQ"
      },
      "outputs": [],
      "source": [
        "df.drop(df[df['Plant Id'] == 99999].index, axis='index', inplace=True)"
      ]
    },
    {
      "cell_type": "code",
      "execution_count": null,
      "id": "51Th7ZJ5lx9S",
      "metadata": {
        "colab": {
          "base_uri": "https://localhost:8080/"
        },
        "id": "51Th7ZJ5lx9S",
        "outputId": "1bf09ef9-72a5-41f3-9f53-bb4de3146ff1"
      },
      "outputs": [
        {
          "name": "stdout",
          "output_type": "stream",
          "text": [
            "97\n"
          ]
        },
        {
          "data": {
            "text/plain": [
              "Index(['Plant Id', 'Combined Heat And\\nPower Plant', 'Nuclear Unit Id',\n",
              "       'Plant Name', 'Operator Name', 'Operator Id', 'Plant State',\n",
              "       'Census Region', 'NERC Region', 'Reserved', 'NAICS Code',\n",
              "       'EIA Sector Number', 'Sector Name', 'Reported\\nPrime Mover',\n",
              "       'Reported\\nFuel Type Code', 'AER\\nFuel Type Code', 'Reserved.1',\n",
              "       'Reserved.2', 'Physical\\nUnit Label', 'Quantity\\nJanuary',\n",
              "       'Quantity\\nFebruary', 'Quantity\\nMarch', 'Quantity\\nApril',\n",
              "       'Quantity\\nMay', 'Quantity\\nJune', 'Quantity\\nJuly', 'Quantity\\nAugust',\n",
              "       'Quantity\\nSeptember', 'Quantity\\nOctober', 'Quantity\\nNovember',\n",
              "       'Quantity\\nDecember', 'Elec_Quantity\\nJanuary',\n",
              "       'Elec_Quantity\\nFebruary', 'Elec_Quantity\\nMarch',\n",
              "       'Elec_Quantity\\nApril', 'Elec_Quantity\\nMay', 'Elec_Quantity\\nJune',\n",
              "       'Elec_Quantity\\nJuly', 'Elec_Quantity\\nAugust',\n",
              "       'Elec_Quantity\\nSeptember', 'Elec_Quantity\\nOctober',\n",
              "       'Elec_Quantity\\nNovember', 'Elec_Quantity\\nDecember',\n",
              "       'MMBtuPer_Unit\\nJanuary', 'MMBtuPer_Unit\\nFebruary',\n",
              "       'MMBtuPer_Unit\\nMarch', 'MMBtuPer_Unit\\nApril', 'MMBtuPer_Unit\\nMay',\n",
              "       'MMBtuPer_Unit\\nJune', 'MMBtuPer_Unit\\nJuly', 'MMBtuPer_Unit\\nAugust',\n",
              "       'MMBtuPer_Unit\\nSeptember', 'MMBtuPer_Unit\\nOctober',\n",
              "       'MMBtuPer_Unit\\nNovember', 'MMBtuPer_Unit\\nDecember',\n",
              "       'Tot_MMBtu\\nJanuary', 'Tot_MMBtu\\nFebruary', 'Tot_MMBtu\\nMarch',\n",
              "       'Tot_MMBtu\\nApril', 'Tot_MMBtu\\nMay', 'Tot_MMBtu\\nJune',\n",
              "       'Tot_MMBtu\\nJuly', 'Tot_MMBtu\\nAugust', 'Tot_MMBtu\\nSeptember',\n",
              "       'Tot_MMBtu\\nOctober', 'Tot_MMBtu\\nNovember', 'Tot_MMBtu\\nDecember',\n",
              "       'Elec_MMBtu\\nJanuary', 'Elec_MMBtu\\nFebruary', 'Elec_MMBtu\\nMarch',\n",
              "       'Elec_MMBtu\\nApril', 'Elec_MMBtu\\nMay', 'Elec_MMBtu\\nJune',\n",
              "       'Elec_MMBtu\\nJuly', 'Elec_MMBtu\\nAugust', 'Elec_MMBtu\\nSeptember',\n",
              "       'Elec_MMBtu\\nOctober', 'Elec_MMBtu\\nNovember', 'Elec_MMBtu\\nDecember',\n",
              "       'Netgen\\nJanuary', 'Netgen\\nFebruary', 'Netgen\\nMarch', 'Netgen\\nApril',\n",
              "       'Netgen\\nMay', 'Netgen\\nJune', 'Netgen\\nJuly', 'Netgen\\nAugust',\n",
              "       'Netgen\\nSeptember', 'Netgen\\nOctober', 'Netgen\\nNovember',\n",
              "       'Netgen\\nDecember', 'Total Fuel Consumption\\nQuantity',\n",
              "       'Electric Fuel Consumption\\nQuantity', 'Total Fuel Consumption\\nMMBtu',\n",
              "       'Elec Fuel Consumption\\nMMBtu', 'Net Generation\\n(Megawatthours)',\n",
              "       'YEAR'],\n",
              "      dtype='object')"
            ]
          },
          "execution_count": 30,
          "metadata": {},
          "output_type": "execute_result"
        }
      ],
      "source": [
        "print(len(df.columns))\n",
        "df.columns"
      ]
    },
    {
      "cell_type": "code",
      "execution_count": null,
      "id": "jXmhw1Z_lx9S",
      "metadata": {
        "id": "jXmhw1Z_lx9S"
      },
      "outputs": [],
      "source": [
        "df.rename(columns={'Plant Id': 'Plant Id', 'Plant Name': 'Plant Name', 'Operator Name': 'Operator Name', 'Operator Id': 'Operator Id', 'Plant State': 'State',\n",
        "                   'Reported\\nFuel Type Code': 'Reported Fuel Type Code', 'AER\\nFuel Type Code': 'AER Fuel Type Code',\n",
        "                   'Net Generation\\n(Megawatthours)': 'Net Generation (Megawatthours)', 'Elec Fuel Consumption\\nMMBtu': 'Elec Fuel Consumption MMBtu',\n",
        "                   'YEAR': 'Year'}, inplace=True)"
      ]
    },
    {
      "cell_type": "code",
      "execution_count": null,
      "id": "lf42W5yKlx9S",
      "metadata": {
        "colab": {
          "base_uri": "https://localhost:8080/"
        },
        "id": "lf42W5yKlx9S",
        "outputId": "88f64f79-4a6f-4b06-b38b-aa37c78ae4de"
      },
      "outputs": [
        {
          "name": "stdout",
          "output_type": "stream",
          "text": [
            "(11954, 97)\n"
          ]
        },
        {
          "data": {
            "text/plain": [
              "2014    11909\n",
              ".          45\n",
              "Name: Year, dtype: int64"
            ]
          },
          "execution_count": 32,
          "metadata": {},
          "output_type": "execute_result"
        }
      ],
      "source": [
        "print(df.shape)\n",
        "df['Year'].value_counts()"
      ]
    },
    {
      "cell_type": "code",
      "execution_count": null,
      "id": "mnyE1ob0n35Q",
      "metadata": {
        "id": "mnyE1ob0n35Q"
      },
      "outputs": [],
      "source": [
        "df['Year'] = df['Year'].apply(lambda x: 2014 if x == '.' else x)"
      ]
    },
    {
      "cell_type": "code",
      "execution_count": null,
      "id": "kpywfYvmoETj",
      "metadata": {
        "colab": {
          "base_uri": "https://localhost:8080/"
        },
        "id": "kpywfYvmoETj",
        "outputId": "9051fc62-987b-48a8-b04a-1f8ac061dae6"
      },
      "outputs": [
        {
          "name": "stdout",
          "output_type": "stream",
          "text": [
            "(11954, 97)\n"
          ]
        },
        {
          "data": {
            "text/plain": [
              "2014    11954\n",
              "Name: Year, dtype: int64"
            ]
          },
          "execution_count": 34,
          "metadata": {},
          "output_type": "execute_result"
        }
      ],
      "source": [
        "print(df.shape)\n",
        "df['Year'].value_counts()"
      ]
    },
    {
      "cell_type": "code",
      "execution_count": null,
      "id": "vYplFq0Vlx9S",
      "metadata": {
        "id": "vYplFq0Vlx9S"
      },
      "outputs": [],
      "source": [
        "df.to_csv('ele_2014.csv', index = False, quoting=csv.QUOTE_NONNUMERIC)"
      ]
    },
    {
      "cell_type": "markdown",
      "id": "ibg-MD5ZmOBO",
      "metadata": {
        "id": "ibg-MD5ZmOBO"
      },
      "source": [
        "# 2015"
      ]
    },
    {
      "cell_type": "code",
      "execution_count": null,
      "id": "FeQ5HZCqmQ4X",
      "metadata": {
        "colab": {
          "base_uri": "https://localhost:8080/",
          "height": 438
        },
        "id": "FeQ5HZCqmQ4X",
        "outputId": "34607fe8-2f48-45b7-fca4-eb7680a7247c"
      },
      "outputs": [
        {
          "data": {
            "text/html": [
              "<div>\n",
              "<style scoped>\n",
              "    .dataframe tbody tr th:only-of-type {\n",
              "        vertical-align: middle;\n",
              "    }\n",
              "\n",
              "    .dataframe tbody tr th {\n",
              "        vertical-align: top;\n",
              "    }\n",
              "\n",
              "    .dataframe thead th {\n",
              "        text-align: right;\n",
              "    }\n",
              "</style>\n",
              "<table border=\"1\" class=\"dataframe\">\n",
              "  <thead>\n",
              "    <tr style=\"text-align: right;\">\n",
              "      <th></th>\n",
              "      <th>Plant Id</th>\n",
              "      <th>Combined Heat And\\nPower Plant</th>\n",
              "      <th>Nuclear Unit Id</th>\n",
              "      <th>Plant Name</th>\n",
              "      <th>Operator Name</th>\n",
              "      <th>Operator Id</th>\n",
              "      <th>Plant State</th>\n",
              "      <th>Census Region</th>\n",
              "      <th>NERC Region</th>\n",
              "      <th>Reserved</th>\n",
              "      <th>...</th>\n",
              "      <th>Netgen\\nSeptember</th>\n",
              "      <th>Netgen\\nOctober</th>\n",
              "      <th>Netgen\\nNovember</th>\n",
              "      <th>Netgen\\nDecember</th>\n",
              "      <th>Total Fuel Consumption\\nQuantity</th>\n",
              "      <th>Electric Fuel Consumption\\nQuantity</th>\n",
              "      <th>Total Fuel Consumption\\nMMBtu</th>\n",
              "      <th>Elec Fuel Consumption\\nMMBtu</th>\n",
              "      <th>Net Generation\\n(Megawatthours)</th>\n",
              "      <th>YEAR</th>\n",
              "    </tr>\n",
              "  </thead>\n",
              "  <tbody>\n",
              "    <tr>\n",
              "      <th>0</th>\n",
              "      <td>2</td>\n",
              "      <td>N</td>\n",
              "      <td>.</td>\n",
              "      <td>Bankhead Dam</td>\n",
              "      <td>Alabama Power Co</td>\n",
              "      <td>195</td>\n",
              "      <td>AL</td>\n",
              "      <td>ESC</td>\n",
              "      <td>SERC</td>\n",
              "      <td>NaN</td>\n",
              "      <td>...</td>\n",
              "      <td>974.1</td>\n",
              "      <td>1728.561</td>\n",
              "      <td>2698.29</td>\n",
              "      <td>3881.341</td>\n",
              "      <td>0</td>\n",
              "      <td>0</td>\n",
              "      <td>241548</td>\n",
              "      <td>241548</td>\n",
              "      <td>25920.000</td>\n",
              "      <td>2015</td>\n",
              "    </tr>\n",
              "    <tr>\n",
              "      <th>1</th>\n",
              "      <td>3</td>\n",
              "      <td>N</td>\n",
              "      <td>.</td>\n",
              "      <td>Barry</td>\n",
              "      <td>Alabama Power Co</td>\n",
              "      <td>195</td>\n",
              "      <td>AL</td>\n",
              "      <td>ESC</td>\n",
              "      <td>SERC</td>\n",
              "      <td>NaN</td>\n",
              "      <td>...</td>\n",
              "      <td>126735</td>\n",
              "      <td>145359</td>\n",
              "      <td>244112</td>\n",
              "      <td>223707</td>\n",
              "      <td>770956</td>\n",
              "      <td>770956</td>\n",
              "      <td>788125</td>\n",
              "      <td>788125</td>\n",
              "      <td>2464536.000</td>\n",
              "      <td>2015</td>\n",
              "    </tr>\n",
              "    <tr>\n",
              "      <th>2</th>\n",
              "      <td>3</td>\n",
              "      <td>N</td>\n",
              "      <td>.</td>\n",
              "      <td>Barry</td>\n",
              "      <td>Alabama Power Co</td>\n",
              "      <td>195</td>\n",
              "      <td>AL</td>\n",
              "      <td>ESC</td>\n",
              "      <td>SERC</td>\n",
              "      <td>NaN</td>\n",
              "      <td>...</td>\n",
              "      <td>217458</td>\n",
              "      <td>254183</td>\n",
              "      <td>441658</td>\n",
              "      <td>424910</td>\n",
              "      <td>46149030</td>\n",
              "      <td>46149030</td>\n",
              "      <td>47195389</td>\n",
              "      <td>47195389</td>\n",
              "      <td>4318717.000</td>\n",
              "      <td>2015</td>\n",
              "    </tr>\n",
              "    <tr>\n",
              "      <th>3</th>\n",
              "      <td>3</td>\n",
              "      <td>N</td>\n",
              "      <td>.</td>\n",
              "      <td>Barry</td>\n",
              "      <td>Alabama Power Co</td>\n",
              "      <td>195</td>\n",
              "      <td>AL</td>\n",
              "      <td>ESC</td>\n",
              "      <td>SERC</td>\n",
              "      <td>NaN</td>\n",
              "      <td>...</td>\n",
              "      <td>495746.92</td>\n",
              "      <td>337971.63</td>\n",
              "      <td>308318.11</td>\n",
              "      <td>352781.05</td>\n",
              "      <td>2153948</td>\n",
              "      <td>2153948</td>\n",
              "      <td>46083543</td>\n",
              "      <td>46083543</td>\n",
              "      <td>4559960.600</td>\n",
              "      <td>2015</td>\n",
              "    </tr>\n",
              "    <tr>\n",
              "      <th>4</th>\n",
              "      <td>3</td>\n",
              "      <td>N</td>\n",
              "      <td>.</td>\n",
              "      <td>Barry</td>\n",
              "      <td>Alabama Power Co</td>\n",
              "      <td>195</td>\n",
              "      <td>AL</td>\n",
              "      <td>ESC</td>\n",
              "      <td>SERC</td>\n",
              "      <td>NaN</td>\n",
              "      <td>...</td>\n",
              "      <td>1351.079</td>\n",
              "      <td>1970.374</td>\n",
              "      <td>3594.894</td>\n",
              "      <td>1183.953</td>\n",
              "      <td>446649</td>\n",
              "      <td>446649</td>\n",
              "      <td>457069</td>\n",
              "      <td>457069</td>\n",
              "      <td>44348.399</td>\n",
              "      <td>2015</td>\n",
              "    </tr>\n",
              "  </tbody>\n",
              "</table>\n",
              "<p>5 rows × 97 columns</p>\n",
              "</div>"
            ],
            "text/plain": [
              "   Plant Id Combined Heat And\\nPower Plant Nuclear Unit Id    Plant Name  \\\n",
              "0         2                              N               .  Bankhead Dam   \n",
              "1         3                              N               .         Barry   \n",
              "2         3                              N               .         Barry   \n",
              "3         3                              N               .         Barry   \n",
              "4         3                              N               .         Barry   \n",
              "\n",
              "      Operator Name Operator Id Plant State Census Region NERC Region  \\\n",
              "0  Alabama Power Co         195          AL           ESC        SERC   \n",
              "1  Alabama Power Co         195          AL           ESC        SERC   \n",
              "2  Alabama Power Co         195          AL           ESC        SERC   \n",
              "3  Alabama Power Co         195          AL           ESC        SERC   \n",
              "4  Alabama Power Co         195          AL           ESC        SERC   \n",
              "\n",
              "   Reserved  ...  Netgen\\nSeptember  Netgen\\nOctober Netgen\\nNovember  \\\n",
              "0       NaN  ...              974.1         1728.561          2698.29   \n",
              "1       NaN  ...             126735           145359           244112   \n",
              "2       NaN  ...             217458           254183           441658   \n",
              "3       NaN  ...          495746.92        337971.63        308318.11   \n",
              "4       NaN  ...           1351.079         1970.374         3594.894   \n",
              "\n",
              "  Netgen\\nDecember Total Fuel Consumption\\nQuantity  \\\n",
              "0         3881.341                                0   \n",
              "1           223707                           770956   \n",
              "2           424910                         46149030   \n",
              "3        352781.05                          2153948   \n",
              "4         1183.953                           446649   \n",
              "\n",
              "  Electric Fuel Consumption\\nQuantity  Total Fuel Consumption\\nMMBtu  \\\n",
              "0                                   0                         241548   \n",
              "1                              770956                         788125   \n",
              "2                            46149030                       47195389   \n",
              "3                             2153948                       46083543   \n",
              "4                              446649                         457069   \n",
              "\n",
              "   Elec Fuel Consumption\\nMMBtu Net Generation\\n(Megawatthours)  YEAR  \n",
              "0                        241548                       25920.000  2015  \n",
              "1                        788125                     2464536.000  2015  \n",
              "2                      47195389                     4318717.000  2015  \n",
              "3                      46083543                     4559960.600  2015  \n",
              "4                        457069                       44348.399  2015  \n",
              "\n",
              "[5 rows x 97 columns]"
            ]
          },
          "execution_count": 36,
          "metadata": {},
          "output_type": "execute_result"
        }
      ],
      "source": [
        "df = pd.read_excel('./initial/Electric/original/ELECTRIC_2015.xlsx', skiprows=5)\n",
        "df.head()"
      ]
    },
    {
      "cell_type": "code",
      "execution_count": null,
      "id": "7d7L0AH1hHrQ",
      "metadata": {
        "id": "7d7L0AH1hHrQ"
      },
      "outputs": [],
      "source": [
        "df.drop(df[df['Plant Id'] == 99999].index, axis='index', inplace=True)"
      ]
    },
    {
      "cell_type": "code",
      "execution_count": null,
      "id": "y1Ito2K5mQ4Y",
      "metadata": {
        "colab": {
          "base_uri": "https://localhost:8080/"
        },
        "id": "y1Ito2K5mQ4Y",
        "outputId": "736ea3f2-435d-4218-c9c3-5a190cab61db"
      },
      "outputs": [
        {
          "name": "stdout",
          "output_type": "stream",
          "text": [
            "97\n"
          ]
        },
        {
          "data": {
            "text/plain": [
              "Index(['Plant Id', 'Combined Heat And\\nPower Plant', 'Nuclear Unit Id',\n",
              "       'Plant Name', 'Operator Name', 'Operator Id', 'Plant State',\n",
              "       'Census Region', 'NERC Region', 'Reserved', 'NAICS Code',\n",
              "       'EIA Sector Number', 'Sector Name', 'Reported\\nPrime Mover',\n",
              "       'Reported\\nFuel Type Code', 'AER\\nFuel Type Code', 'Reserved.1',\n",
              "       'Reserved.2', 'Physical\\nUnit Label', 'Quantity\\nJanuary',\n",
              "       'Quantity\\nFebruary', 'Quantity\\nMarch', 'Quantity\\nApril',\n",
              "       'Quantity\\nMay', 'Quantity\\nJune', 'Quantity\\nJuly', 'Quantity\\nAugust',\n",
              "       'Quantity\\nSeptember', 'Quantity\\nOctober', 'Quantity\\nNovember',\n",
              "       'Quantity\\nDecember', 'Elec_Quantity\\nJanuary',\n",
              "       'Elec_Quantity\\nFebruary', 'Elec_Quantity\\nMarch',\n",
              "       'Elec_Quantity\\nApril', 'Elec_Quantity\\nMay', 'Elec_Quantity\\nJune',\n",
              "       'Elec_Quantity\\nJuly', 'Elec_Quantity\\nAugust',\n",
              "       'Elec_Quantity\\nSeptember', 'Elec_Quantity\\nOctober',\n",
              "       'Elec_Quantity\\nNovember', 'Elec_Quantity\\nDecember',\n",
              "       'MMBtuPer_Unit\\nJanuary', 'MMBtuPer_Unit\\nFebruary',\n",
              "       'MMBtuPer_Unit\\nMarch', 'MMBtuPer_Unit\\nApril', 'MMBtuPer_Unit\\nMay',\n",
              "       'MMBtuPer_Unit\\nJune', 'MMBtuPer_Unit\\nJuly', 'MMBtuPer_Unit\\nAugust',\n",
              "       'MMBtuPer_Unit\\nSeptember', 'MMBtuPer_Unit\\nOctober',\n",
              "       'MMBtuPer_Unit\\nNovember', 'MMBtuPer_Unit\\nDecember',\n",
              "       'Tot_MMBtu\\nJanuary', 'Tot_MMBtu\\nFebruary', 'Tot_MMBtu\\nMarch',\n",
              "       'Tot_MMBtu\\nApril', 'Tot_MMBtu\\nMay', 'Tot_MMBtu\\nJune',\n",
              "       'Tot_MMBtu\\nJuly', 'Tot_MMBtu\\nAugust', 'Tot_MMBtu\\nSeptember',\n",
              "       'Tot_MMBtu\\nOctober', 'Tot_MMBtu\\nNovember', 'Tot_MMBtu\\nDecember',\n",
              "       'Elec_MMBtu\\nJanuary', 'Elec_MMBtu\\nFebruary', 'Elec_MMBtu\\nMarch',\n",
              "       'Elec_MMBtu\\nApril', 'Elec_MMBtu\\nMay', 'Elec_MMBtu\\nJune',\n",
              "       'Elec_MMBtu\\nJuly', 'Elec_MMBtu\\nAugust', 'Elec_MMBtu\\nSeptember',\n",
              "       'Elec_MMBtu\\nOctober', 'Elec_MMBtu\\nNovember', 'Elec_MMBtu\\nDecember',\n",
              "       'Netgen\\nJanuary', 'Netgen\\nFebruary', 'Netgen\\nMarch', 'Netgen\\nApril',\n",
              "       'Netgen\\nMay', 'Netgen\\nJune', 'Netgen\\nJuly', 'Netgen\\nAugust',\n",
              "       'Netgen\\nSeptember', 'Netgen\\nOctober', 'Netgen\\nNovember',\n",
              "       'Netgen\\nDecember', 'Total Fuel Consumption\\nQuantity',\n",
              "       'Electric Fuel Consumption\\nQuantity', 'Total Fuel Consumption\\nMMBtu',\n",
              "       'Elec Fuel Consumption\\nMMBtu', 'Net Generation\\n(Megawatthours)',\n",
              "       'YEAR'],\n",
              "      dtype='object')"
            ]
          },
          "execution_count": 38,
          "metadata": {},
          "output_type": "execute_result"
        }
      ],
      "source": [
        "print(len(df.columns))\n",
        "df.columns"
      ]
    },
    {
      "cell_type": "code",
      "execution_count": null,
      "id": "bU1FfDH1mQ4Y",
      "metadata": {
        "id": "bU1FfDH1mQ4Y"
      },
      "outputs": [],
      "source": [
        "df.rename(columns={'Plant Id': 'Plant Id', 'Plant Name': 'Plant Name', 'Operator Name': 'Operator Name', 'Operator Id': 'Operator Id', 'Plant State': 'State',\n",
        "                   'Reported\\nFuel Type Code': 'Reported Fuel Type Code', 'AER\\nFuel Type Code': 'AER Fuel Type Code',\n",
        "                   'Net Generation\\n(Megawatthours)': 'Net Generation (Megawatthours)', 'Elec Fuel Consumption\\nMMBtu': 'Elec Fuel Consumption MMBtu',\n",
        "                   'YEAR': 'Year'}, inplace=True)"
      ]
    },
    {
      "cell_type": "code",
      "execution_count": null,
      "id": "NQwymrU6mQ4Z",
      "metadata": {
        "colab": {
          "base_uri": "https://localhost:8080/"
        },
        "id": "NQwymrU6mQ4Z",
        "outputId": "583a8865-8295-4c24-e3a4-c280cc79e1f3"
      },
      "outputs": [
        {
          "name": "stdout",
          "output_type": "stream",
          "text": [
            "(12109, 97)\n"
          ]
        },
        {
          "data": {
            "text/plain": [
              "2015    12063\n",
              ".          46\n",
              "Name: Year, dtype: int64"
            ]
          },
          "execution_count": 40,
          "metadata": {},
          "output_type": "execute_result"
        }
      ],
      "source": [
        "print(df.shape)\n",
        "df['Year'].value_counts()"
      ]
    },
    {
      "cell_type": "code",
      "execution_count": null,
      "id": "2o3v5VfUmv4x",
      "metadata": {
        "id": "2o3v5VfUmv4x"
      },
      "outputs": [],
      "source": [
        "df['Year'] = df['Year'].apply(lambda x: 2015 if x == '.' else x)"
      ]
    },
    {
      "cell_type": "code",
      "execution_count": null,
      "id": "UAilDqb8m1mH",
      "metadata": {
        "colab": {
          "base_uri": "https://localhost:8080/"
        },
        "id": "UAilDqb8m1mH",
        "outputId": "4af5d877-c478-4de3-a0a5-6ed7f41fb527"
      },
      "outputs": [
        {
          "name": "stdout",
          "output_type": "stream",
          "text": [
            "(12109, 97)\n"
          ]
        },
        {
          "data": {
            "text/plain": [
              "2015    12109\n",
              "Name: Year, dtype: int64"
            ]
          },
          "execution_count": 42,
          "metadata": {},
          "output_type": "execute_result"
        }
      ],
      "source": [
        "print(df.shape)\n",
        "df['Year'].value_counts()"
      ]
    },
    {
      "cell_type": "code",
      "execution_count": null,
      "id": "Vbg7I3EHmQ4Z",
      "metadata": {
        "id": "Vbg7I3EHmQ4Z"
      },
      "outputs": [],
      "source": [
        "df.to_csv('ele_2015.csv', index = False, quoting=csv.QUOTE_NONNUMERIC)"
      ]
    },
    {
      "cell_type": "markdown",
      "id": "O_U2ytbFnKCK",
      "metadata": {
        "id": "O_U2ytbFnKCK"
      },
      "source": [
        "# 2016"
      ]
    },
    {
      "cell_type": "code",
      "execution_count": null,
      "id": "cKy6NhzCnNa0",
      "metadata": {
        "colab": {
          "base_uri": "https://localhost:8080/",
          "height": 438
        },
        "id": "cKy6NhzCnNa0",
        "outputId": "ff931513-45a1-4aef-d850-48bf0fdc3df1"
      },
      "outputs": [
        {
          "data": {
            "text/html": [
              "<div>\n",
              "<style scoped>\n",
              "    .dataframe tbody tr th:only-of-type {\n",
              "        vertical-align: middle;\n",
              "    }\n",
              "\n",
              "    .dataframe tbody tr th {\n",
              "        vertical-align: top;\n",
              "    }\n",
              "\n",
              "    .dataframe thead th {\n",
              "        text-align: right;\n",
              "    }\n",
              "</style>\n",
              "<table border=\"1\" class=\"dataframe\">\n",
              "  <thead>\n",
              "    <tr style=\"text-align: right;\">\n",
              "      <th></th>\n",
              "      <th>Plant Id</th>\n",
              "      <th>Combined Heat And\\nPower Plant</th>\n",
              "      <th>Nuclear Unit Id</th>\n",
              "      <th>Plant Name</th>\n",
              "      <th>Operator Name</th>\n",
              "      <th>Operator Id</th>\n",
              "      <th>Plant State</th>\n",
              "      <th>Census Region</th>\n",
              "      <th>NERC Region</th>\n",
              "      <th>Reserved</th>\n",
              "      <th>...</th>\n",
              "      <th>Netgen\\nSeptember</th>\n",
              "      <th>Netgen\\nOctober</th>\n",
              "      <th>Netgen\\nNovember</th>\n",
              "      <th>Netgen\\nDecember</th>\n",
              "      <th>Total Fuel Consumption\\nQuantity</th>\n",
              "      <th>Electric Fuel Consumption\\nQuantity</th>\n",
              "      <th>Total Fuel Consumption\\nMMBtu</th>\n",
              "      <th>Elec Fuel Consumption\\nMMBtu</th>\n",
              "      <th>Net Generation\\n(Megawatthours)</th>\n",
              "      <th>YEAR</th>\n",
              "    </tr>\n",
              "  </thead>\n",
              "  <tbody>\n",
              "    <tr>\n",
              "      <th>0</th>\n",
              "      <td>2</td>\n",
              "      <td>N</td>\n",
              "      <td>.</td>\n",
              "      <td>Bankhead Dam</td>\n",
              "      <td>Alabama Power Co</td>\n",
              "      <td>195</td>\n",
              "      <td>AL</td>\n",
              "      <td>ESC</td>\n",
              "      <td>SERC</td>\n",
              "      <td>NaN</td>\n",
              "      <td>...</td>\n",
              "      <td>-11.566</td>\n",
              "      <td>-10.832</td>\n",
              "      <td>-10.27</td>\n",
              "      <td>-20.909</td>\n",
              "      <td>0</td>\n",
              "      <td>0</td>\n",
              "      <td>0</td>\n",
              "      <td>0</td>\n",
              "      <td>-325.000</td>\n",
              "      <td>2016</td>\n",
              "    </tr>\n",
              "    <tr>\n",
              "      <th>1</th>\n",
              "      <td>3</td>\n",
              "      <td>N</td>\n",
              "      <td>.</td>\n",
              "      <td>Barry</td>\n",
              "      <td>Alabama Power Co</td>\n",
              "      <td>195</td>\n",
              "      <td>AL</td>\n",
              "      <td>ESC</td>\n",
              "      <td>SERC</td>\n",
              "      <td>NaN</td>\n",
              "      <td>...</td>\n",
              "      <td>251839</td>\n",
              "      <td>219263</td>\n",
              "      <td>266927</td>\n",
              "      <td>265011</td>\n",
              "      <td>878457</td>\n",
              "      <td>878457</td>\n",
              "      <td>895285</td>\n",
              "      <td>895285</td>\n",
              "      <td>2918277.000</td>\n",
              "      <td>2016</td>\n",
              "    </tr>\n",
              "    <tr>\n",
              "      <th>2</th>\n",
              "      <td>3</td>\n",
              "      <td>N</td>\n",
              "      <td>.</td>\n",
              "      <td>Barry</td>\n",
              "      <td>Alabama Power Co</td>\n",
              "      <td>195</td>\n",
              "      <td>AL</td>\n",
              "      <td>ESC</td>\n",
              "      <td>SERC</td>\n",
              "      <td>NaN</td>\n",
              "      <td>...</td>\n",
              "      <td>463646</td>\n",
              "      <td>401506</td>\n",
              "      <td>495929</td>\n",
              "      <td>501072</td>\n",
              "      <td>56694492</td>\n",
              "      <td>56694492</td>\n",
              "      <td>57790622</td>\n",
              "      <td>57790622</td>\n",
              "      <td>5483083.000</td>\n",
              "      <td>2016</td>\n",
              "    </tr>\n",
              "    <tr>\n",
              "      <th>3</th>\n",
              "      <td>3</td>\n",
              "      <td>N</td>\n",
              "      <td>.</td>\n",
              "      <td>Barry</td>\n",
              "      <td>Alabama Power Co</td>\n",
              "      <td>195</td>\n",
              "      <td>AL</td>\n",
              "      <td>ESC</td>\n",
              "      <td>SERC</td>\n",
              "      <td>NaN</td>\n",
              "      <td>...</td>\n",
              "      <td>473793.7</td>\n",
              "      <td>286736.32</td>\n",
              "      <td>363876.57</td>\n",
              "      <td>207463.2</td>\n",
              "      <td>2044002</td>\n",
              "      <td>2044002</td>\n",
              "      <td>43137858</td>\n",
              "      <td>43137858</td>\n",
              "      <td>4278313.100</td>\n",
              "      <td>2016</td>\n",
              "    </tr>\n",
              "    <tr>\n",
              "      <th>4</th>\n",
              "      <td>3</td>\n",
              "      <td>N</td>\n",
              "      <td>.</td>\n",
              "      <td>Barry</td>\n",
              "      <td>Alabama Power Co</td>\n",
              "      <td>195</td>\n",
              "      <td>AL</td>\n",
              "      <td>ESC</td>\n",
              "      <td>SERC</td>\n",
              "      <td>NaN</td>\n",
              "      <td>...</td>\n",
              "      <td>11246.298</td>\n",
              "      <td>14387.682</td>\n",
              "      <td>3534.431</td>\n",
              "      <td>1623.801</td>\n",
              "      <td>908006</td>\n",
              "      <td>908006</td>\n",
              "      <td>926020</td>\n",
              "      <td>926020</td>\n",
              "      <td>91217.936</td>\n",
              "      <td>2016</td>\n",
              "    </tr>\n",
              "  </tbody>\n",
              "</table>\n",
              "<p>5 rows × 97 columns</p>\n",
              "</div>"
            ],
            "text/plain": [
              "   Plant Id Combined Heat And\\nPower Plant Nuclear Unit Id    Plant Name  \\\n",
              "0         2                              N               .  Bankhead Dam   \n",
              "1         3                              N               .         Barry   \n",
              "2         3                              N               .         Barry   \n",
              "3         3                              N               .         Barry   \n",
              "4         3                              N               .         Barry   \n",
              "\n",
              "      Operator Name Operator Id Plant State Census Region NERC Region  \\\n",
              "0  Alabama Power Co         195          AL           ESC        SERC   \n",
              "1  Alabama Power Co         195          AL           ESC        SERC   \n",
              "2  Alabama Power Co         195          AL           ESC        SERC   \n",
              "3  Alabama Power Co         195          AL           ESC        SERC   \n",
              "4  Alabama Power Co         195          AL           ESC        SERC   \n",
              "\n",
              "   Reserved  ...  Netgen\\nSeptember  Netgen\\nOctober Netgen\\nNovember  \\\n",
              "0       NaN  ...            -11.566          -10.832           -10.27   \n",
              "1       NaN  ...             251839           219263           266927   \n",
              "2       NaN  ...             463646           401506           495929   \n",
              "3       NaN  ...           473793.7        286736.32        363876.57   \n",
              "4       NaN  ...          11246.298        14387.682         3534.431   \n",
              "\n",
              "  Netgen\\nDecember Total Fuel Consumption\\nQuantity  \\\n",
              "0          -20.909                                0   \n",
              "1           265011                           878457   \n",
              "2           501072                         56694492   \n",
              "3         207463.2                          2044002   \n",
              "4         1623.801                           908006   \n",
              "\n",
              "  Electric Fuel Consumption\\nQuantity  Total Fuel Consumption\\nMMBtu  \\\n",
              "0                                   0                              0   \n",
              "1                              878457                         895285   \n",
              "2                            56694492                       57790622   \n",
              "3                             2044002                       43137858   \n",
              "4                              908006                         926020   \n",
              "\n",
              "   Elec Fuel Consumption\\nMMBtu Net Generation\\n(Megawatthours)  YEAR  \n",
              "0                             0                        -325.000  2016  \n",
              "1                        895285                     2918277.000  2016  \n",
              "2                      57790622                     5483083.000  2016  \n",
              "3                      43137858                     4278313.100  2016  \n",
              "4                        926020                       91217.936  2016  \n",
              "\n",
              "[5 rows x 97 columns]"
            ]
          },
          "execution_count": 44,
          "metadata": {},
          "output_type": "execute_result"
        }
      ],
      "source": [
        "df = pd.read_excel('./initial/Electric/original/ELECTRIC_2016.xlsx', skiprows=5)\n",
        "df.head()"
      ]
    },
    {
      "cell_type": "code",
      "execution_count": null,
      "id": "UtPXQ-3ZhI7y",
      "metadata": {
        "id": "UtPXQ-3ZhI7y"
      },
      "outputs": [],
      "source": [
        "df.drop(df[df['Plant Id'] == 99999].index, axis='index', inplace=True)"
      ]
    },
    {
      "cell_type": "code",
      "execution_count": null,
      "id": "mWYtbO6nnNa1",
      "metadata": {
        "colab": {
          "base_uri": "https://localhost:8080/"
        },
        "id": "mWYtbO6nnNa1",
        "outputId": "3a4ab1ef-c92c-4dae-b521-d0c546a844df"
      },
      "outputs": [
        {
          "name": "stdout",
          "output_type": "stream",
          "text": [
            "97\n"
          ]
        },
        {
          "data": {
            "text/plain": [
              "Index(['Plant Id', 'Combined Heat And\\nPower Plant', 'Nuclear Unit Id',\n",
              "       'Plant Name', 'Operator Name', 'Operator Id', 'Plant State',\n",
              "       'Census Region', 'NERC Region', 'Reserved', 'NAICS Code',\n",
              "       'EIA Sector Number', 'Sector Name', 'Reported\\nPrime Mover',\n",
              "       'Reported\\nFuel Type Code', 'AER\\nFuel Type Code', 'Reserved.1',\n",
              "       'Reserved.2', 'Physical\\nUnit Label', 'Quantity\\nJanuary',\n",
              "       'Quantity\\nFebruary', 'Quantity\\nMarch', 'Quantity\\nApril',\n",
              "       'Quantity\\nMay', 'Quantity\\nJune', 'Quantity\\nJuly', 'Quantity\\nAugust',\n",
              "       'Quantity\\nSeptember', 'Quantity\\nOctober', 'Quantity\\nNovember',\n",
              "       'Quantity\\nDecember', 'Elec_Quantity\\nJanuary',\n",
              "       'Elec_Quantity\\nFebruary', 'Elec_Quantity\\nMarch',\n",
              "       'Elec_Quantity\\nApril', 'Elec_Quantity\\nMay', 'Elec_Quantity\\nJune',\n",
              "       'Elec_Quantity\\nJuly', 'Elec_Quantity\\nAugust',\n",
              "       'Elec_Quantity\\nSeptember', 'Elec_Quantity\\nOctober',\n",
              "       'Elec_Quantity\\nNovember', 'Elec_Quantity\\nDecember',\n",
              "       'MMBtuPer_Unit\\nJanuary', 'MMBtuPer_Unit\\nFebruary',\n",
              "       'MMBtuPer_Unit\\nMarch', 'MMBtuPer_Unit\\nApril', 'MMBtuPer_Unit\\nMay',\n",
              "       'MMBtuPer_Unit\\nJune', 'MMBtuPer_Unit\\nJuly', 'MMBtuPer_Unit\\nAugust',\n",
              "       'MMBtuPer_Unit\\nSeptember', 'MMBtuPer_Unit\\nOctober',\n",
              "       'MMBtuPer_Unit\\nNovember', 'MMBtuPer_Unit\\nDecember',\n",
              "       'Tot_MMBtu\\nJanuary', 'Tot_MMBtu\\nFebruary', 'Tot_MMBtu\\nMarch',\n",
              "       'Tot_MMBtu\\nApril', 'Tot_MMBtu\\nMay', 'Tot_MMBtu\\nJune',\n",
              "       'Tot_MMBtu\\nJuly', 'Tot_MMBtu\\nAugust', 'Tot_MMBtu\\nSeptember',\n",
              "       'Tot_MMBtu\\nOctober', 'Tot_MMBtu\\nNovember', 'Tot_MMBtu\\nDecember',\n",
              "       'Elec_MMBtu\\nJanuary', 'Elec_MMBtu\\nFebruary', 'Elec_MMBtu\\nMarch',\n",
              "       'Elec_MMBtu\\nApril', 'Elec_MMBtu\\nMay', 'Elec_MMBtu\\nJune',\n",
              "       'Elec_MMBtu\\nJuly', 'Elec_MMBtu\\nAugust', 'Elec_MMBtu\\nSeptember',\n",
              "       'Elec_MMBtu\\nOctober', 'Elec_MMBtu\\nNovember', 'Elec_MMBtu\\nDecember',\n",
              "       'Netgen\\nJanuary', 'Netgen\\nFebruary', 'Netgen\\nMarch', 'Netgen\\nApril',\n",
              "       'Netgen\\nMay', 'Netgen\\nJune', 'Netgen\\nJuly', 'Netgen\\nAugust',\n",
              "       'Netgen\\nSeptember', 'Netgen\\nOctober', 'Netgen\\nNovember',\n",
              "       'Netgen\\nDecember', 'Total Fuel Consumption\\nQuantity',\n",
              "       'Electric Fuel Consumption\\nQuantity', 'Total Fuel Consumption\\nMMBtu',\n",
              "       'Elec Fuel Consumption\\nMMBtu', 'Net Generation\\n(Megawatthours)',\n",
              "       'YEAR'],\n",
              "      dtype='object')"
            ]
          },
          "execution_count": 46,
          "metadata": {},
          "output_type": "execute_result"
        }
      ],
      "source": [
        "print(len(df.columns))\n",
        "df.columns"
      ]
    },
    {
      "cell_type": "code",
      "execution_count": null,
      "id": "Vq81xoj9nNa1",
      "metadata": {
        "id": "Vq81xoj9nNa1"
      },
      "outputs": [],
      "source": [
        "df.rename(columns={'Plant Id': 'Plant Id', 'Plant Name': 'Plant Name', 'Operator Name': 'Operator Name', 'Operator Id': 'Operator Id', 'Plant State': 'State',\n",
        "                   'Reported\\nFuel Type Code': 'Reported Fuel Type Code', 'AER\\nFuel Type Code': 'AER Fuel Type Code',\n",
        "                   'Net Generation\\n(Megawatthours)': 'Net Generation (Megawatthours)', 'Elec Fuel Consumption\\nMMBtu': 'Elec Fuel Consumption MMBtu',\n",
        "                   'YEAR': 'Year'}, inplace=True)"
      ]
    },
    {
      "cell_type": "code",
      "execution_count": null,
      "id": "UcNqNXKWnNa1",
      "metadata": {
        "colab": {
          "base_uri": "https://localhost:8080/"
        },
        "id": "UcNqNXKWnNa1",
        "outputId": "95320982-d0fa-4c5c-9fc5-eaa6b51c7059"
      },
      "outputs": [
        {
          "name": "stdout",
          "output_type": "stream",
          "text": [
            "(12786, 97)\n"
          ]
        },
        {
          "data": {
            "text/plain": [
              "2016    12735\n",
              ".          51\n",
              "Name: Year, dtype: int64"
            ]
          },
          "execution_count": 48,
          "metadata": {},
          "output_type": "execute_result"
        }
      ],
      "source": [
        "print(df.shape)\n",
        "df['Year'].value_counts()"
      ]
    },
    {
      "cell_type": "code",
      "execution_count": null,
      "id": "O5XvRvrQnNa2",
      "metadata": {
        "id": "O5XvRvrQnNa2"
      },
      "outputs": [],
      "source": [
        "df['Year'] = df['Year'].apply(lambda x: 2016 if x == '.' else x)"
      ]
    },
    {
      "cell_type": "code",
      "execution_count": null,
      "id": "I0QqY8hZnNa2",
      "metadata": {
        "colab": {
          "base_uri": "https://localhost:8080/"
        },
        "id": "I0QqY8hZnNa2",
        "outputId": "be88bc21-d1cb-4f64-ab80-7b492fee40e9"
      },
      "outputs": [
        {
          "name": "stdout",
          "output_type": "stream",
          "text": [
            "(12786, 97)\n"
          ]
        },
        {
          "data": {
            "text/plain": [
              "2016    12786\n",
              "Name: Year, dtype: int64"
            ]
          },
          "execution_count": 50,
          "metadata": {},
          "output_type": "execute_result"
        }
      ],
      "source": [
        "print(df.shape)\n",
        "df['Year'].value_counts()"
      ]
    },
    {
      "cell_type": "code",
      "execution_count": null,
      "id": "jfeTaHyXnNa2",
      "metadata": {
        "id": "jfeTaHyXnNa2"
      },
      "outputs": [],
      "source": [
        "df.to_csv('ele_2016.csv', index = False, quoting=csv.QUOTE_NONNUMERIC)"
      ]
    },
    {
      "cell_type": "markdown",
      "id": "ea81f045",
      "metadata": {
        "id": "ea81f045"
      },
      "source": [
        "# 2017"
      ]
    },
    {
      "cell_type": "code",
      "execution_count": null,
      "id": "d8e672cc",
      "metadata": {
        "id": "d8e672cc",
        "outputId": "613bf04f-47ab-430b-8b80-f44515991788"
      },
      "outputs": [
        {
          "data": {
            "text/html": [
              "<div>\n",
              "<style scoped>\n",
              "    .dataframe tbody tr th:only-of-type {\n",
              "        vertical-align: middle;\n",
              "    }\n",
              "\n",
              "    .dataframe tbody tr th {\n",
              "        vertical-align: top;\n",
              "    }\n",
              "\n",
              "    .dataframe thead th {\n",
              "        text-align: right;\n",
              "    }\n",
              "</style>\n",
              "<table border=\"1\" class=\"dataframe\">\n",
              "  <thead>\n",
              "    <tr style=\"text-align: right;\">\n",
              "      <th></th>\n",
              "      <th>Plant Id</th>\n",
              "      <th>Combined Heat And\\nPower Plant</th>\n",
              "      <th>Nuclear Unit Id</th>\n",
              "      <th>Plant Name</th>\n",
              "      <th>Operator Name</th>\n",
              "      <th>Operator Id</th>\n",
              "      <th>Plant State</th>\n",
              "      <th>Census Region</th>\n",
              "      <th>NERC Region</th>\n",
              "      <th>Reserved</th>\n",
              "      <th>...</th>\n",
              "      <th>Netgen\\nSeptember</th>\n",
              "      <th>Netgen\\nOctober</th>\n",
              "      <th>Netgen\\nNovember</th>\n",
              "      <th>Netgen\\nDecember</th>\n",
              "      <th>Total Fuel Consumption\\nQuantity</th>\n",
              "      <th>Electric Fuel Consumption\\nQuantity</th>\n",
              "      <th>Total Fuel Consumption\\nMMBtu</th>\n",
              "      <th>Elec Fuel Consumption\\nMMBtu</th>\n",
              "      <th>Net Generation\\n(Megawatthours)</th>\n",
              "      <th>YEAR</th>\n",
              "    </tr>\n",
              "  </thead>\n",
              "  <tbody>\n",
              "    <tr>\n",
              "      <th>0</th>\n",
              "      <td>2</td>\n",
              "      <td>N</td>\n",
              "      <td>.</td>\n",
              "      <td>Bankhead Dam</td>\n",
              "      <td>Alabama Power Co</td>\n",
              "      <td>195</td>\n",
              "      <td>AL</td>\n",
              "      <td>ESC</td>\n",
              "      <td>SERC</td>\n",
              "      <td>NaN</td>\n",
              "      <td>...</td>\n",
              "      <td>-18.438</td>\n",
              "      <td>-16.519</td>\n",
              "      <td>-18.925</td>\n",
              "      <td>-22.249</td>\n",
              "      <td>0</td>\n",
              "      <td>0</td>\n",
              "      <td>0</td>\n",
              "      <td>0</td>\n",
              "      <td>-291.00</td>\n",
              "      <td>2017</td>\n",
              "    </tr>\n",
              "    <tr>\n",
              "      <th>1</th>\n",
              "      <td>3</td>\n",
              "      <td>N</td>\n",
              "      <td>.</td>\n",
              "      <td>Barry</td>\n",
              "      <td>Alabama Power Co</td>\n",
              "      <td>195</td>\n",
              "      <td>AL</td>\n",
              "      <td>ESC</td>\n",
              "      <td>SERC</td>\n",
              "      <td>NaN</td>\n",
              "      <td>...</td>\n",
              "      <td>248836</td>\n",
              "      <td>203879</td>\n",
              "      <td>227094</td>\n",
              "      <td>253167</td>\n",
              "      <td>741965</td>\n",
              "      <td>741965</td>\n",
              "      <td>756470</td>\n",
              "      <td>756470</td>\n",
              "      <td>2958047.00</td>\n",
              "      <td>2017</td>\n",
              "    </tr>\n",
              "    <tr>\n",
              "      <th>2</th>\n",
              "      <td>3</td>\n",
              "      <td>N</td>\n",
              "      <td>.</td>\n",
              "      <td>Barry</td>\n",
              "      <td>Alabama Power Co</td>\n",
              "      <td>195</td>\n",
              "      <td>AL</td>\n",
              "      <td>ESC</td>\n",
              "      <td>SERC</td>\n",
              "      <td>NaN</td>\n",
              "      <td>...</td>\n",
              "      <td>452006</td>\n",
              "      <td>376385</td>\n",
              "      <td>428812</td>\n",
              "      <td>479416</td>\n",
              "      <td>56794711</td>\n",
              "      <td>56794711</td>\n",
              "      <td>57873437</td>\n",
              "      <td>57873437</td>\n",
              "      <td>5458926.00</td>\n",
              "      <td>2017</td>\n",
              "    </tr>\n",
              "    <tr>\n",
              "      <th>3</th>\n",
              "      <td>3</td>\n",
              "      <td>N</td>\n",
              "      <td>.</td>\n",
              "      <td>Barry</td>\n",
              "      <td>Alabama Power Co</td>\n",
              "      <td>195</td>\n",
              "      <td>AL</td>\n",
              "      <td>ESC</td>\n",
              "      <td>SERC</td>\n",
              "      <td>NaN</td>\n",
              "      <td>...</td>\n",
              "      <td>384122.43</td>\n",
              "      <td>418924.14</td>\n",
              "      <td>350252.5</td>\n",
              "      <td>210041.03</td>\n",
              "      <td>1626747</td>\n",
              "      <td>1626747</td>\n",
              "      <td>34013923</td>\n",
              "      <td>34013923</td>\n",
              "      <td>3353297.00</td>\n",
              "      <td>2017</td>\n",
              "    </tr>\n",
              "    <tr>\n",
              "      <th>4</th>\n",
              "      <td>3</td>\n",
              "      <td>N</td>\n",
              "      <td>.</td>\n",
              "      <td>Barry</td>\n",
              "      <td>Alabama Power Co</td>\n",
              "      <td>195</td>\n",
              "      <td>AL</td>\n",
              "      <td>ESC</td>\n",
              "      <td>SERC</td>\n",
              "      <td>NaN</td>\n",
              "      <td>...</td>\n",
              "      <td>13141.568</td>\n",
              "      <td>6080.856</td>\n",
              "      <td>4952.502</td>\n",
              "      <td>9742.968</td>\n",
              "      <td>982252</td>\n",
              "      <td>982252</td>\n",
              "      <td>1001765</td>\n",
              "      <td>1001765</td>\n",
              "      <td>94284.05</td>\n",
              "      <td>2017</td>\n",
              "    </tr>\n",
              "  </tbody>\n",
              "</table>\n",
              "<p>5 rows × 97 columns</p>\n",
              "</div>"
            ],
            "text/plain": [
              "   Plant Id Combined Heat And\\nPower Plant Nuclear Unit Id    Plant Name  \\\n",
              "0         2                              N               .  Bankhead Dam   \n",
              "1         3                              N               .         Barry   \n",
              "2         3                              N               .         Barry   \n",
              "3         3                              N               .         Barry   \n",
              "4         3                              N               .         Barry   \n",
              "\n",
              "      Operator Name Operator Id Plant State Census Region NERC Region  \\\n",
              "0  Alabama Power Co         195          AL           ESC        SERC   \n",
              "1  Alabama Power Co         195          AL           ESC        SERC   \n",
              "2  Alabama Power Co         195          AL           ESC        SERC   \n",
              "3  Alabama Power Co         195          AL           ESC        SERC   \n",
              "4  Alabama Power Co         195          AL           ESC        SERC   \n",
              "\n",
              "   Reserved  ...  Netgen\\nSeptember  Netgen\\nOctober Netgen\\nNovember  \\\n",
              "0       NaN  ...            -18.438          -16.519          -18.925   \n",
              "1       NaN  ...             248836           203879           227094   \n",
              "2       NaN  ...             452006           376385           428812   \n",
              "3       NaN  ...          384122.43        418924.14         350252.5   \n",
              "4       NaN  ...          13141.568         6080.856         4952.502   \n",
              "\n",
              "  Netgen\\nDecember Total Fuel Consumption\\nQuantity  \\\n",
              "0          -22.249                                0   \n",
              "1           253167                           741965   \n",
              "2           479416                         56794711   \n",
              "3        210041.03                          1626747   \n",
              "4         9742.968                           982252   \n",
              "\n",
              "  Electric Fuel Consumption\\nQuantity  Total Fuel Consumption\\nMMBtu  \\\n",
              "0                                   0                              0   \n",
              "1                              741965                         756470   \n",
              "2                            56794711                       57873437   \n",
              "3                             1626747                       34013923   \n",
              "4                              982252                        1001765   \n",
              "\n",
              "   Elec Fuel Consumption\\nMMBtu Net Generation\\n(Megawatthours)  YEAR  \n",
              "0                             0                         -291.00  2017  \n",
              "1                        756470                      2958047.00  2017  \n",
              "2                      57873437                      5458926.00  2017  \n",
              "3                      34013923                      3353297.00  2017  \n",
              "4                       1001765                        94284.05  2017  \n",
              "\n",
              "[5 rows x 97 columns]"
            ]
          },
          "execution_count": 3,
          "metadata": {},
          "output_type": "execute_result"
        }
      ],
      "source": [
        "df = pd.read_excel('./incremental/original/ELECTRIC_2017.xlsx', skiprows=5)\n",
        "df.head()"
      ]
    },
    {
      "cell_type": "code",
      "execution_count": null,
      "id": "4d74b324",
      "metadata": {
        "id": "4d74b324"
      },
      "outputs": [],
      "source": [
        "df.drop(df[df['Plant Id'] == 99999].index, axis='index', inplace=True)"
      ]
    },
    {
      "cell_type": "code",
      "execution_count": null,
      "id": "3cc78fd1",
      "metadata": {
        "id": "3cc78fd1",
        "outputId": "73930f46-5613-42c3-88ec-228e4c9b72ca"
      },
      "outputs": [
        {
          "name": "stdout",
          "output_type": "stream",
          "text": [
            "97\n"
          ]
        },
        {
          "data": {
            "text/plain": [
              "Index(['Plant Id', 'Combined Heat And\\nPower Plant', 'Nuclear Unit Id',\n",
              "       'Plant Name', 'Operator Name', 'Operator Id', 'Plant State',\n",
              "       'Census Region', 'NERC Region', 'Reserved', 'NAICS Code',\n",
              "       'EIA Sector Number', 'Sector Name', 'Reported\\nPrime Mover',\n",
              "       'Reported\\nFuel Type Code', 'AER\\nFuel Type Code', 'Reserved.1',\n",
              "       'Reserved.2', 'Physical\\nUnit Label', 'Quantity\\nJanuary',\n",
              "       'Quantity\\nFebruary', 'Quantity\\nMarch', 'Quantity\\nApril',\n",
              "       'Quantity\\nMay', 'Quantity\\nJune', 'Quantity\\nJuly', 'Quantity\\nAugust',\n",
              "       'Quantity\\nSeptember', 'Quantity\\nOctober', 'Quantity\\nNovember',\n",
              "       'Quantity\\nDecember', 'Elec_Quantity\\nJanuary',\n",
              "       'Elec_Quantity\\nFebruary', 'Elec_Quantity\\nMarch',\n",
              "       'Elec_Quantity\\nApril', 'Elec_Quantity\\nMay', 'Elec_Quantity\\nJune',\n",
              "       'Elec_Quantity\\nJuly', 'Elec_Quantity\\nAugust',\n",
              "       'Elec_Quantity\\nSeptember', 'Elec_Quantity\\nOctober',\n",
              "       'Elec_Quantity\\nNovember', 'Elec_Quantity\\nDecember',\n",
              "       'MMBtuPer_Unit\\nJanuary', 'MMBtuPer_Unit\\nFebruary',\n",
              "       'MMBtuPer_Unit\\nMarch', 'MMBtuPer_Unit\\nApril', 'MMBtuPer_Unit\\nMay',\n",
              "       'MMBtuPer_Unit\\nJune', 'MMBtuPer_Unit\\nJuly', 'MMBtuPer_Unit\\nAugust',\n",
              "       'MMBtuPer_Unit\\nSeptember', 'MMBtuPer_Unit\\nOctober',\n",
              "       'MMBtuPer_Unit\\nNovember', 'MMBtuPer_Unit\\nDecember',\n",
              "       'Tot_MMBtu\\nJanuary', 'Tot_MMBtu\\nFebruary', 'Tot_MMBtu\\nMarch',\n",
              "       'Tot_MMBtu\\nApril', 'Tot_MMBtu\\nMay', 'Tot_MMBtu\\nJune',\n",
              "       'Tot_MMBtu\\nJuly', 'Tot_MMBtu\\nAugust', 'Tot_MMBtu\\nSeptember',\n",
              "       'Tot_MMBtu\\nOctober', 'Tot_MMBtu\\nNovember', 'Tot_MMBtu\\nDecember',\n",
              "       'Elec_MMBtu\\nJanuary', 'Elec_MMBtu\\nFebruary', 'Elec_MMBtu\\nMarch',\n",
              "       'Elec_MMBtu\\nApril', 'Elec_MMBtu\\nMay', 'Elec_MMBtu\\nJune',\n",
              "       'Elec_MMBtu\\nJuly', 'Elec_MMBtu\\nAugust', 'Elec_MMBtu\\nSeptember',\n",
              "       'Elec_MMBtu\\nOctober', 'Elec_MMBtu\\nNovember', 'Elec_MMBtu\\nDecember',\n",
              "       'Netgen\\nJanuary', 'Netgen\\nFebruary', 'Netgen\\nMarch', 'Netgen\\nApril',\n",
              "       'Netgen\\nMay', 'Netgen\\nJune', 'Netgen\\nJuly', 'Netgen\\nAugust',\n",
              "       'Netgen\\nSeptember', 'Netgen\\nOctober', 'Netgen\\nNovember',\n",
              "       'Netgen\\nDecember', 'Total Fuel Consumption\\nQuantity',\n",
              "       'Electric Fuel Consumption\\nQuantity', 'Total Fuel Consumption\\nMMBtu',\n",
              "       'Elec Fuel Consumption\\nMMBtu', 'Net Generation\\n(Megawatthours)',\n",
              "       'YEAR'],\n",
              "      dtype='object')"
            ]
          },
          "execution_count": 5,
          "metadata": {},
          "output_type": "execute_result"
        }
      ],
      "source": [
        "print(len(df.columns))\n",
        "df.columns"
      ]
    },
    {
      "cell_type": "code",
      "execution_count": null,
      "id": "5492b17c",
      "metadata": {
        "id": "5492b17c"
      },
      "outputs": [],
      "source": [
        "df.rename(columns={'Plant Id': 'Plant Id', 'Plant Name': 'Plant Name', 'Operator Name': 'Operator Name', 'Operator Id': 'Operator Id', 'Plant State': 'State',\n",
        "                   'Reported\\nFuel Type Code': 'Reported Fuel Type Code', 'AER\\nFuel Type Code': 'AER Fuel Type Code',\n",
        "                   'Net Generation\\n(Megawatthours)': 'Net Generation (Megawatthours)', 'Elec Fuel Consumption\\nMMBtu': 'Elec Fuel Consumption MMBtu',\n",
        "                   'YEAR': 'Year'}, inplace=True)"
      ]
    },
    {
      "cell_type": "code",
      "execution_count": null,
      "id": "193ba824",
      "metadata": {
        "id": "193ba824",
        "outputId": "703dfcaa-bac6-41d8-ede5-791083046ed7"
      },
      "outputs": [
        {
          "name": "stdout",
          "output_type": "stream",
          "text": [
            "(13240, 97)\n"
          ]
        },
        {
          "data": {
            "text/plain": [
              "2017    13184\n",
              ".          56\n",
              "Name: Year, dtype: int64"
            ]
          },
          "execution_count": 7,
          "metadata": {},
          "output_type": "execute_result"
        }
      ],
      "source": [
        "print(df.shape)\n",
        "df['Year'].value_counts()"
      ]
    },
    {
      "cell_type": "code",
      "execution_count": null,
      "id": "73199cc6",
      "metadata": {
        "id": "73199cc6"
      },
      "outputs": [],
      "source": [
        "df['Year'] = df['Year'].apply(lambda x: 2017 if x == '.' else x)"
      ]
    },
    {
      "cell_type": "code",
      "execution_count": null,
      "id": "c18741ff",
      "metadata": {
        "id": "c18741ff",
        "outputId": "6e9f8752-cd5a-43b3-a82b-78f5409ecf01"
      },
      "outputs": [
        {
          "name": "stdout",
          "output_type": "stream",
          "text": [
            "(13240, 97)\n"
          ]
        },
        {
          "data": {
            "text/plain": [
              "2017    13240\n",
              "Name: Year, dtype: int64"
            ]
          },
          "execution_count": 9,
          "metadata": {},
          "output_type": "execute_result"
        }
      ],
      "source": [
        "print(df.shape)\n",
        "df['Year'].value_counts()"
      ]
    },
    {
      "cell_type": "code",
      "execution_count": null,
      "id": "483eca1a",
      "metadata": {
        "id": "483eca1a"
      },
      "outputs": [],
      "source": [
        "df.to_csv('ele_2017.csv', index = False, quoting=csv.QUOTE_NONNUMERIC)"
      ]
    },
    {
      "cell_type": "code",
      "execution_count": null,
      "id": "234edabb",
      "metadata": {
        "id": "234edabb"
      },
      "outputs": [],
      "source": [
        ""
      ]
    }
  ],
  "metadata": {
    "colab": {
      "collapsed_sections": [],
      "name": "ElectricPreprocessing.ipynb",
      "provenance": []
    },
    "kernelspec": {
      "display_name": "Python 3 (ipykernel)",
      "language": "python",
      "name": "python3"
    },
    "language_info": {
      "codemirror_mode": {
        "name": "ipython",
        "version": 3
      },
      "file_extension": ".py",
      "mimetype": "text/x-python",
      "name": "python",
      "nbconvert_exporter": "python",
      "pygments_lexer": "ipython3",
      "version": "3.9.7"
    }
  },
  "nbformat": 4,
  "nbformat_minor": 5
}